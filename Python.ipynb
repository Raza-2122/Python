{
 "cells": [
  {
   "cell_type": "markdown",
   "id": "890f04e2",
   "metadata": {},
   "source": [
    "                                          Python Practice:\n",
    "                                       (Syed Qasim Raza fatimi)\n",
    "    "
   ]
  },
  {
   "cell_type": "code",
   "execution_count": 1,
   "id": "348f1639",
   "metadata": {},
   "outputs": [
    {
     "name": "stdout",
     "output_type": "stream",
     "text": [
      "😁\n"
     ]
    }
   ],
   "source": [
    "print(\"\\U0001f601\")"
   ]
  },
  {
   "cell_type": "code",
   "execution_count": 2,
   "id": "c2430d3d",
   "metadata": {},
   "outputs": [
    {
     "name": "stdout",
     "output_type": "stream",
     "text": [
      "i \n",
      "\tam \n",
      "\t \ta \n",
      "\t\t\tProgrammer\n"
     ]
    }
   ],
   "source": [
    "print(\"i \\n\\tam \\n\\t \\ta \\n\\t\\t\\tProgrammer\")"
   ]
  },
  {
   "cell_type": "code",
   "execution_count": 3,
   "id": "0b8e8942",
   "metadata": {},
   "outputs": [
    {
     "name": "stdout",
     "output_type": "stream",
     "text": [
      "8\n"
     ]
    }
   ],
   "source": [
    "print(2**3)"
   ]
  },
  {
   "cell_type": "code",
   "execution_count": 4,
   "id": "5b95a7f1",
   "metadata": {},
   "outputs": [
    {
     "name": "stdout",
     "output_type": "stream",
     "text": [
      "11.3137085\n"
     ]
    }
   ],
   "source": [
    "print (round(2**3.5,7))"
   ]
  },
  {
   "cell_type": "markdown",
   "id": "71eb86b2",
   "metadata": {},
   "source": [
    "# String"
   ]
  },
  {
   "cell_type": "code",
   "execution_count": 5,
   "id": "e8668318",
   "metadata": {},
   "outputs": [
    {
     "name": "stdout",
     "output_type": "stream",
     "text": [
      "AliRaza\n"
     ]
    }
   ],
   "source": [
    "print(\"Ali\"+\"Raza\")"
   ]
  },
  {
   "cell_type": "code",
   "execution_count": 6,
   "id": "1cae3f11",
   "metadata": {},
   "outputs": [
    {
     "name": "stdout",
     "output_type": "stream",
     "text": [
      "Enter your name:qasim\n"
     ]
    }
   ],
   "source": [
    "Name=input('Enter your name:')"
   ]
  },
  {
   "cell_type": "code",
   "execution_count": 7,
   "id": "a2b50013",
   "metadata": {},
   "outputs": [
    {
     "name": "stdout",
     "output_type": "stream",
     "text": [
      "Enter age and name split them using space:23 qasim\n"
     ]
    }
   ],
   "source": [
    "Age,name=input('Enter age and name split them using space:').split()"
   ]
  },
  {
   "cell_type": "code",
   "execution_count": 8,
   "id": "b5804621",
   "metadata": {},
   "outputs": [
    {
     "name": "stdout",
     "output_type": "stream",
     "text": [
      "Name:qasim\tAge:23\n"
     ]
    }
   ],
   "source": [
    "Name=\"qasim\"\n",
    "Age=23\n",
    "print(\"Name:{}\\tAge:{}\".format(Name,Age))"
   ]
  },
  {
   "cell_type": "code",
   "execution_count": 9,
   "id": "40fc915b",
   "metadata": {},
   "outputs": [
    {
     "name": "stdout",
     "output_type": "stream",
     "text": [
      "Q\n",
      "as\n",
      "im\n",
      "a\n"
     ]
    }
   ],
   "source": [
    "str=\"Qasim\"\n",
    "print(str[0])\n",
    "print(str[1:3])\n",
    "print(str[3:5])\n",
    "print(str[1:3:5])"
   ]
  },
  {
   "cell_type": "code",
   "execution_count": 10,
   "id": "ec5bd525",
   "metadata": {},
   "outputs": [
    {
     "data": {
      "text/plain": [
       "'misaQ'"
      ]
     },
     "execution_count": 10,
     "metadata": {},
     "output_type": "execute_result"
    }
   ],
   "source": [
    "str_rev=str[::-1]\n",
    "str_rev"
   ]
  },
  {
   "cell_type": "code",
   "execution_count": 11,
   "id": "ed723fed",
   "metadata": {},
   "outputs": [
    {
     "name": "stdout",
     "output_type": "stream",
     "text": [
      "My name is \"Qasim\" and i'm a programmer.\n"
     ]
    }
   ],
   "source": [
    "print('My name is \"Qasim\" and i\\'m a programmer.')"
   ]
  },
  {
   "cell_type": "code",
   "execution_count": 12,
   "id": "e359294e",
   "metadata": {},
   "outputs": [
    {
     "data": {
      "text/plain": [
       "5"
      ]
     },
     "execution_count": 12,
     "metadata": {},
     "output_type": "execute_result"
    }
   ],
   "source": [
    "len(str)"
   ]
  },
  {
   "cell_type": "code",
   "execution_count": 13,
   "id": "e1c886c0",
   "metadata": {},
   "outputs": [
    {
     "data": {
      "text/plain": [
       "'QASIM'"
      ]
     },
     "execution_count": 13,
     "metadata": {},
     "output_type": "execute_result"
    }
   ],
   "source": [
    "str.upper()"
   ]
  },
  {
   "cell_type": "code",
   "execution_count": 14,
   "id": "3dcd325c",
   "metadata": {},
   "outputs": [
    {
     "data": {
      "text/plain": [
       "'qasim'"
      ]
     },
     "execution_count": 14,
     "metadata": {},
     "output_type": "execute_result"
    }
   ],
   "source": [
    "str.lower()"
   ]
  },
  {
   "cell_type": "code",
   "execution_count": 15,
   "id": "4b3367ad",
   "metadata": {},
   "outputs": [
    {
     "data": {
      "text/plain": [
       "'Qasim'"
      ]
     },
     "execution_count": 15,
     "metadata": {},
     "output_type": "execute_result"
    }
   ],
   "source": [
    "str.title()"
   ]
  },
  {
   "cell_type": "code",
   "execution_count": 16,
   "id": "672611c3",
   "metadata": {},
   "outputs": [
    {
     "data": {
      "text/plain": [
       "' my name is qasim '"
      ]
     },
     "execution_count": 16,
     "metadata": {},
     "output_type": "execute_result"
    }
   ],
   "source": [
    "str2= \" my name is qasim \"\n",
    "str2"
   ]
  },
  {
   "cell_type": "code",
   "execution_count": 17,
   "id": "a22eab83",
   "metadata": {},
   "outputs": [
    {
     "data": {
      "text/plain": [
       "'my name is qasim '"
      ]
     },
     "execution_count": 17,
     "metadata": {},
     "output_type": "execute_result"
    }
   ],
   "source": [
    "str2.lstrip()"
   ]
  },
  {
   "cell_type": "code",
   "execution_count": 18,
   "id": "2f2eec66",
   "metadata": {},
   "outputs": [
    {
     "data": {
      "text/plain": [
       "' my name is qasim'"
      ]
     },
     "execution_count": 18,
     "metadata": {},
     "output_type": "execute_result"
    }
   ],
   "source": [
    "str2.rstrip()"
   ]
  },
  {
   "cell_type": "code",
   "execution_count": 19,
   "id": "3b2c68ef",
   "metadata": {},
   "outputs": [
    {
     "data": {
      "text/plain": [
       "'my name is qasim'"
      ]
     },
     "execution_count": 19,
     "metadata": {},
     "output_type": "execute_result"
    }
   ],
   "source": [
    "str2.strip()"
   ]
  },
  {
   "cell_type": "code",
   "execution_count": 20,
   "id": "f6cc061d",
   "metadata": {},
   "outputs": [
    {
     "data": {
      "text/plain": [
       "' my name is Raza '"
      ]
     },
     "execution_count": 20,
     "metadata": {},
     "output_type": "execute_result"
    }
   ],
   "source": [
    "str2.replace(\"qasim\",\"Raza\")"
   ]
  },
  {
   "cell_type": "code",
   "execution_count": 21,
   "id": "f01dfa9e",
   "metadata": {},
   "outputs": [
    {
     "data": {
      "text/plain": [
       "9"
      ]
     },
     "execution_count": 21,
     "metadata": {},
     "output_type": "execute_result"
    }
   ],
   "source": [
    "str2.find(\"is\")"
   ]
  },
  {
   "cell_type": "code",
   "execution_count": 22,
   "id": "a90808a3",
   "metadata": {},
   "outputs": [
    {
     "data": {
      "text/plain": [
       "'****** my name is qasim ******'"
      ]
     },
     "execution_count": 22,
     "metadata": {},
     "output_type": "execute_result"
    }
   ],
   "source": [
    "str2.center(len(str2)+12,\"*\")"
   ]
  },
  {
   "cell_type": "markdown",
   "id": "588c06ca",
   "metadata": {},
   "source": [
    "# Conditional Statements   "
   ]
  },
  {
   "cell_type": "code",
   "execution_count": 23,
   "id": "0cc00197",
   "metadata": {},
   "outputs": [
    {
     "name": "stdout",
     "output_type": "stream",
     "text": [
      "Enter your age:22\n",
      "age is less than 33\n"
     ]
    }
   ],
   "source": [
    "age=int(input(\"Enter your age:\"))\n",
    "\n",
    "if age > 33:\n",
    "    \n",
    "    print(\"age is greater than 33\")\n",
    "elif age ==33:\n",
    "    print(\"Age equal to 33\")\n",
    "    \n",
    "else:\n",
    "    print(\"age is less than 33\")"
   ]
  },
  {
   "cell_type": "code",
   "execution_count": 24,
   "id": "b134a6e1",
   "metadata": {},
   "outputs": [
    {
     "name": "stdout",
     "output_type": "stream",
     "text": [
      "B\n"
     ]
    }
   ],
   "source": [
    "a=2\n",
    "b=7\n",
    "print(\"A\") if a>b else print(\"B\")"
   ]
  },
  {
   "cell_type": "markdown",
   "id": "41cca084",
   "metadata": {},
   "source": [
    "# Itrators"
   ]
  },
  {
   "cell_type": "code",
   "execution_count": 25,
   "id": "1de42ed7",
   "metadata": {},
   "outputs": [
    {
     "name": "stdout",
     "output_type": "stream",
     "text": [
      "0 qasim\n",
      "2 qasim\n",
      "4 qasim\n",
      "6 qasim\n",
      "8 qasim\n",
      "10 qasim\n"
     ]
    }
   ],
   "source": [
    "name=\"qasim\"\n",
    "for i in range(0,12,2) :\n",
    "    print(i,name)"
   ]
  },
  {
   "cell_type": "code",
   "execution_count": 26,
   "id": "49650333",
   "metadata": {},
   "outputs": [
    {
     "name": "stdout",
     "output_type": "stream",
     "text": [
      "sum 15\n"
     ]
    }
   ],
   "source": [
    "number=[1,2,3,4,5]\n",
    "sum=0\n",
    "for n in number:\n",
    "    sum=sum+n\n",
    "    \n",
    "print (\"sum\",sum)"
   ]
  },
  {
   "cell_type": "code",
   "execution_count": 27,
   "id": "5e682eae",
   "metadata": {
    "scrolled": true
   },
   "outputs": [
    {
     "name": "stdout",
     "output_type": "stream",
     "text": [
      "0\n",
      "1\n",
      "2\n",
      "3\n",
      "4\n",
      "5\n",
      "Finally finished!\n"
     ]
    }
   ],
   "source": [
    "for x in range(6):\n",
    "  print(x)\n",
    "else:\n",
    " print(\"Finally finished!\")"
   ]
  },
  {
   "cell_type": "code",
   "execution_count": 28,
   "id": "324ed429",
   "metadata": {},
   "outputs": [
    {
     "name": "stdout",
     "output_type": "stream",
     "text": [
      "Enter a number:1\n",
      "A is a positive number\n"
     ]
    }
   ],
   "source": [
    "a=int(input(\"Enter a number:\"))\n",
    "if a > 0:\n",
    "    if a % 2 == 0:\n",
    "        print('A is a positive and even integer')\n",
    "    else:\n",
    "        print('A is a positive number')\n",
    "elif a == 0:\n",
    "    print('A is zero')\n",
    "else:\n",
    "    print('A is a negative number')"
   ]
  },
  {
   "cell_type": "markdown",
   "id": "a30d5e2a",
   "metadata": {},
   "source": [
    "# Nested For"
   ]
  },
  {
   "cell_type": "code",
   "execution_count": 29,
   "id": "20db822a",
   "metadata": {},
   "outputs": [
    {
     "name": "stdout",
     "output_type": "stream",
     "text": [
      "red apple\n",
      "red banana\n",
      "red cherry\n",
      "big apple\n",
      "big banana\n",
      "big cherry\n",
      "tasty apple\n",
      "tasty banana\n",
      "tasty cherry\n"
     ]
    }
   ],
   "source": [
    "adj = [\"red\", \"big\", \"tasty\"]\n",
    "fruits = [\"apple\", \"banana\", \"cherry\"]\n",
    "for x in adj:    \n",
    "  for y in fruits:\n",
    "    print(x, y)"
   ]
  },
  {
   "cell_type": "code",
   "execution_count": 5,
   "id": "a328ae12",
   "metadata": {},
   "outputs": [
    {
     "name": "stdout",
     "output_type": "stream",
     "text": [
      "\n",
      "#\n",
      "##\n",
      "###\n",
      "####\n",
      "#####\n"
     ]
    }
   ],
   "source": [
    "row=6\n",
    "for i in range(row):\n",
    "    for j in range (i):\n",
    "        print(end=\"#\")\n",
    "    print('')\n"
   ]
  },
  {
   "cell_type": "code",
   "execution_count": 31,
   "id": "a291ea94",
   "metadata": {},
   "outputs": [
    {
     "name": "stdout",
     "output_type": "stream",
     "text": [
      "\n",
      "1 \n",
      "2 2 \n",
      "3 3 3 \n",
      "4 4 4 4 \n",
      "5 5 5 5 5 \n"
     ]
    }
   ],
   "source": [
    "row=6\n",
    "for i in range(row):\n",
    "    for j in range (i):\n",
    "        print(i,end=\" \")\n",
    "    print('')\n"
   ]
  },
  {
   "cell_type": "code",
   "execution_count": 32,
   "id": "c262654d",
   "metadata": {},
   "outputs": [
    {
     "name": "stdout",
     "output_type": "stream",
     "text": [
      "1 \n",
      "1 2 \n",
      "1 2 3 \n",
      "1 2 3 4 \n",
      "1 2 3 4 5 \n",
      "1 2 3 4 5 6 \n"
     ]
    }
   ],
   "source": [
    "row=6\n",
    "for i in range(1,row+1):\n",
    "    for j in range (1,i+1):\n",
    "        print(j,end=\" \")\n",
    "    print('')\n"
   ]
  },
  {
   "cell_type": "code",
   "execution_count": 33,
   "id": "d53e50b5",
   "metadata": {
    "scrolled": true
   },
   "outputs": [
    {
     "name": "stdout",
     "output_type": "stream",
     "text": [
      "1 1 1 1 1 \r\n",
      "2 2 2 2 \r\n",
      "3 3 3 \r\n",
      "4 4 \r\n",
      "5 \r\n"
     ]
    }
   ],
   "source": [
    "rows = 5\n",
    "b = 0\n",
    "for i in range(rows, 0, -1):\n",
    "    b += 1\n",
    "    for j in range(1, i + 1):\n",
    "        print(b, end=' ')\n",
    "    print('\\r')"
   ]
  },
  {
   "cell_type": "code",
   "execution_count": 34,
   "id": "1b73961d",
   "metadata": {},
   "outputs": [
    {
     "name": "stdout",
     "output_type": "stream",
     "text": [
      "1 2 3 4 5 \r\n",
      "1 2 3 4 \r\n",
      "1 2 3 \r\n",
      "1 2 \r\n",
      "1 \r\n"
     ]
    }
   ],
   "source": [
    "rows = 5\n",
    "b = 0\n",
    "for i in range(rows, 0, -1):\n",
    "    b += 1\n",
    "    for j in range(1, i + 1):\n",
    "        print(j, end=' ')\n",
    "    print('\\r')"
   ]
  },
  {
   "cell_type": "code",
   "execution_count": 35,
   "id": "37ae03cf",
   "metadata": {},
   "outputs": [
    {
     "name": "stdout",
     "output_type": "stream",
     "text": [
      "5 5 5 5 5 \r\n",
      "4 4 4 4 \r\n",
      "3 3 3 \r\n",
      "2 2 \r\n",
      "1 \r\n"
     ]
    }
   ],
   "source": [
    "rows = 5\n",
    "b = 0\n",
    "for i in range(rows, 0, -1):\n",
    "    b += 1\n",
    "    for j in range(1, i + 1):\n",
    "        print(i, end=' ')\n",
    "    print('\\r')"
   ]
  },
  {
   "cell_type": "code",
   "execution_count": 36,
   "id": "5a067ce8",
   "metadata": {},
   "outputs": [
    {
     "name": "stdout",
     "output_type": "stream",
     "text": [
      "\n",
      "6 \n",
      "6 6 \n",
      "6 6 6 \n",
      "6 6 6 6 \n",
      "6 6 6 6 6 \n"
     ]
    }
   ],
   "source": [
    "rows = 5\n",
    "b = 0\n",
    "for i in range(rows+1):\n",
    "    b += 1\n",
    "    for j in range(1, i + 1):\n",
    "        print(row, end=' ')\n",
    "    print('\\r')"
   ]
  },
  {
   "cell_type": "code",
   "execution_count": 37,
   "id": "1196c74e",
   "metadata": {},
   "outputs": [
    {
     "name": "stdout",
     "output_type": "stream",
     "text": [
      "0\n",
      "2\n",
      "4\n",
      "6\n",
      "8\n"
     ]
    }
   ],
   "source": [
    "for i in range(0,10):\n",
    "    if i%2==0:\n",
    "        print(i)"
   ]
  },
  {
   "cell_type": "code",
   "execution_count": null,
   "id": "db342158",
   "metadata": {},
   "outputs": [],
   "source": []
  },
  {
   "cell_type": "code",
   "execution_count": null,
   "id": "19d994fb",
   "metadata": {},
   "outputs": [],
   "source": []
  },
  {
   "cell_type": "code",
   "execution_count": null,
   "id": "2a939522",
   "metadata": {},
   "outputs": [],
   "source": []
  },
  {
   "cell_type": "markdown",
   "id": "c6d6c7aa",
   "metadata": {},
   "source": [
    "# Program "
   ]
  },
  {
   "cell_type": "code",
   "execution_count": 38,
   "id": "c3f6201d",
   "metadata": {},
   "outputs": [
    {
     "name": "stdout",
     "output_type": "stream",
     "text": [
      "totel number of friend = 1\n",
      "Enter Money:222\n",
      "222\n",
      "Sum 222\n",
      "Get more Money\n"
     ]
    }
   ],
   "source": [
    "user = input(\"totel number of friend = \")\n",
    "type(user)\n",
    "summ = 0\n",
    "for i in range(int(user)):\n",
    "    money=int(input(\"Enter Money:\"))\n",
    "    print(money)\n",
    "    summ = summ + money\n",
    "    print(\"Sum\",summ)   \n",
    "if summ>1500:\n",
    "   print(\"Order Pizza\")\n",
    "else:\n",
    "  print(\"Get more Money\")"
   ]
  },
  {
   "cell_type": "markdown",
   "id": "b022e902",
   "metadata": {},
   "source": [
    "# While"
   ]
  },
  {
   "cell_type": "code",
   "execution_count": 39,
   "id": "c1f97480",
   "metadata": {
    "scrolled": true
   },
   "outputs": [
    {
     "name": "stdout",
     "output_type": "stream",
     "text": [
      "1\n",
      "2\n",
      "3\n",
      "4\n",
      "5\n"
     ]
    }
   ],
   "source": [
    "i = 1\n",
    "while i < 6:\n",
    "  print(i)\n",
    "  i += 1"
   ]
  },
  {
   "cell_type": "code",
   "execution_count": 40,
   "id": "f0084baf",
   "metadata": {},
   "outputs": [
    {
     "name": "stdout",
     "output_type": "stream",
     "text": [
      "1\n",
      "2\n",
      "3\n",
      "4\n",
      "5\n"
     ]
    }
   ],
   "source": [
    "i=1\n",
    "while i <= 5:\n",
    "    print(i)\n",
    "    i=i+1"
   ]
  },
  {
   "cell_type": "code",
   "execution_count": 41,
   "id": "9722db05",
   "metadata": {},
   "outputs": [
    {
     "name": "stdout",
     "output_type": "stream",
     "text": [
      "<class 'int'>\n"
     ]
    }
   ],
   "source": [
    "print(type(i))"
   ]
  },
  {
   "cell_type": "code",
   "execution_count": 42,
   "id": "f153e46d",
   "metadata": {},
   "outputs": [
    {
     "data": {
      "text/plain": [
       "False"
      ]
     },
     "execution_count": 42,
     "metadata": {},
     "output_type": "execute_result"
    }
   ],
   "source": [
    "bool({})"
   ]
  },
  {
   "cell_type": "markdown",
   "id": "17241531",
   "metadata": {},
   "source": [
    "# List "
   ]
  },
  {
   "cell_type": "code",
   "execution_count": 43,
   "id": "746b6005",
   "metadata": {},
   "outputs": [
    {
     "name": "stdout",
     "output_type": "stream",
     "text": [
      "['qasim', 'haider', 'Raza', 'apple', 'banana', 'cherry']\n",
      "['qasim', 'haider', 'Raza', 'apple', 'banana', 'cherry', 'khawer']\n"
     ]
    }
   ],
   "source": [
    "mylist=['qasim','haider','Raza',\"apple\", \"banana\", \"cherry\"]\n",
    "print(mylist)\n",
    "mylist.append('khawer')\n",
    "print(mylist)"
   ]
  },
  {
   "cell_type": "code",
   "execution_count": 44,
   "id": "122c3f44",
   "metadata": {},
   "outputs": [
    {
     "name": "stdout",
     "output_type": "stream",
     "text": [
      "haider\n"
     ]
    }
   ],
   "source": [
    "print(mylist[1])"
   ]
  },
  {
   "cell_type": "code",
   "execution_count": 45,
   "id": "74f8425d",
   "metadata": {},
   "outputs": [
    {
     "name": "stdout",
     "output_type": "stream",
     "text": [
      "['Raza', 'apple', 'banana']\n"
     ]
    }
   ],
   "source": [
    "print(mylist[2:5])"
   ]
  },
  {
   "cell_type": "code",
   "execution_count": 46,
   "id": "a94cf9c0",
   "metadata": {},
   "outputs": [
    {
     "name": "stdout",
     "output_type": "stream",
     "text": [
      "['apple', 'banana', 'cherry', 'orange']\n"
     ]
    }
   ],
   "source": [
    "thislist = [\"apple\", \"banana\", \"cherry\"]\n",
    "thislist.append(\"orange\")\n",
    "print(thislist)"
   ]
  },
  {
   "cell_type": "code",
   "execution_count": 47,
   "id": "29c4ac85",
   "metadata": {},
   "outputs": [
    {
     "name": "stdout",
     "output_type": "stream",
     "text": [
      "khawer\n"
     ]
    }
   ],
   "source": [
    "print(mylist[-1])"
   ]
  },
  {
   "cell_type": "code",
   "execution_count": 48,
   "id": "0dc4238a",
   "metadata": {},
   "outputs": [
    {
     "name": "stdout",
     "output_type": "stream",
     "text": [
      "['qasim', 'haider']\n"
     ]
    }
   ],
   "source": [
    "print(mylist[:2])"
   ]
  },
  {
   "cell_type": "code",
   "execution_count": 49,
   "id": "4d614670",
   "metadata": {},
   "outputs": [
    {
     "name": "stdout",
     "output_type": "stream",
     "text": [
      "['Raza', 'apple', 'banana', 'cherry', 'khawer']\n"
     ]
    }
   ],
   "source": [
    "print (mylist[2:])"
   ]
  },
  {
   "cell_type": "code",
   "execution_count": 50,
   "id": "1318c669",
   "metadata": {},
   "outputs": [
    {
     "data": {
      "text/plain": [
       "['qasim', 'Ahmed ', 'hassan', 'apple', 'banana', 'cherry', 'khawer']"
      ]
     },
     "execution_count": 50,
     "metadata": {},
     "output_type": "execute_result"
    }
   ],
   "source": [
    "mylist[1:3]=['Ahmed ','hassan']\n",
    "mylist"
   ]
  },
  {
   "cell_type": "code",
   "execution_count": 51,
   "id": "8803ad7e",
   "metadata": {},
   "outputs": [
    {
     "data": {
      "text/plain": [
       "['qasim', 'khawer', 'apple', 'banana', 'cherry', 'khawer']"
      ]
     },
     "execution_count": 51,
     "metadata": {},
     "output_type": "execute_result"
    }
   ],
   "source": [
    "mylist[1:3]=[\"khawer\"]\n",
    "mylist"
   ]
  },
  {
   "cell_type": "code",
   "execution_count": 52,
   "id": "160257af",
   "metadata": {
    "scrolled": true
   },
   "outputs": [
    {
     "data": {
      "text/plain": [
       "['qasim', 'khawer', 'orange', 'apple', 'banana', 'cherry', 'khawer']"
      ]
     },
     "execution_count": 52,
     "metadata": {},
     "output_type": "execute_result"
    }
   ],
   "source": [
    "mylist.insert(2,\"orange\")\n",
    "mylist"
   ]
  },
  {
   "cell_type": "code",
   "execution_count": 53,
   "id": "0d6ff208",
   "metadata": {},
   "outputs": [
    {
     "name": "stdout",
     "output_type": "stream",
     "text": [
      "['taqi', 'baqir', 'wasi']\n"
     ]
    }
   ],
   "source": [
    "list2=['taqi','baqir','wasi']\n",
    "print(list2)"
   ]
  },
  {
   "cell_type": "code",
   "execution_count": 54,
   "id": "e0bfa1c1",
   "metadata": {},
   "outputs": [
    {
     "name": "stdout",
     "output_type": "stream",
     "text": [
      "['qasim', 'khawer', 'orange', 'apple', 'banana', 'cherry', 'khawer', 'taqi', 'baqir', 'wasi']\n"
     ]
    }
   ],
   "source": [
    "mylist.extend(list2)\n",
    "print(mylist)"
   ]
  },
  {
   "cell_type": "code",
   "execution_count": 55,
   "id": "55dd0a9b",
   "metadata": {},
   "outputs": [
    {
     "data": {
      "text/plain": [
       "['qasim',\n",
       " 'khawer',\n",
       " 'orange',\n",
       " 'apple',\n",
       " 'banana',\n",
       " 'khawer',\n",
       " 'taqi',\n",
       " 'baqir',\n",
       " 'wasi']"
      ]
     },
     "execution_count": 55,
     "metadata": {},
     "output_type": "execute_result"
    }
   ],
   "source": [
    "mylist.remove(\"cherry\")\n",
    "mylist"
   ]
  },
  {
   "cell_type": "code",
   "execution_count": 56,
   "id": "9ca5b50b",
   "metadata": {},
   "outputs": [
    {
     "data": {
      "text/plain": [
       "['qasim', 'khawer', 'orange', 'apple', 'banana', 'khawer', 'taqi', 'baqir']"
      ]
     },
     "execution_count": 56,
     "metadata": {},
     "output_type": "execute_result"
    }
   ],
   "source": [
    "mylist.pop()\n",
    "mylist"
   ]
  },
  {
   "cell_type": "code",
   "execution_count": 57,
   "id": "80c9e097",
   "metadata": {},
   "outputs": [
    {
     "data": {
      "text/plain": [
       "['qasim', 'khawer', 'apple', 'banana', 'khawer', 'taqi', 'baqir']"
      ]
     },
     "execution_count": 57,
     "metadata": {},
     "output_type": "execute_result"
    }
   ],
   "source": [
    "del mylist[2]\n",
    "mylist"
   ]
  },
  {
   "cell_type": "code",
   "execution_count": 58,
   "id": "fb408fac",
   "metadata": {
    "scrolled": true
   },
   "outputs": [
    {
     "data": {
      "text/plain": [
       "['qasim', 'khawer', 'apple', 'banana', 'khawer', 'taqi', 'baqir']"
      ]
     },
     "execution_count": 58,
     "metadata": {},
     "output_type": "execute_result"
    }
   ],
   "source": [
    "mylist"
   ]
  },
  {
   "cell_type": "markdown",
   "id": "4c87f2dd",
   "metadata": {},
   "source": [
    "# loop list"
   ]
  },
  {
   "cell_type": "code",
   "execution_count": 59,
   "id": "46a6eeb2",
   "metadata": {},
   "outputs": [
    {
     "data": {
      "text/plain": [
       "['qasim', 'khawer', 'apple', 'banana', 'khawer', 'taqi', 'baqir']"
      ]
     },
     "execution_count": 59,
     "metadata": {},
     "output_type": "execute_result"
    }
   ],
   "source": [
    "mylist"
   ]
  },
  {
   "cell_type": "code",
   "execution_count": 60,
   "id": "c8314bc1",
   "metadata": {},
   "outputs": [
    {
     "name": "stdout",
     "output_type": "stream",
     "text": [
      "['qasim', 'khawer', 'apple', 'banana', 'khawer', 'taqi', 'baqir']\n",
      "['qasim', 'khawer', 'apple', 'banana', 'khawer', 'taqi', 'baqir']\n",
      "['qasim', 'khawer', 'apple', 'banana', 'khawer', 'taqi', 'baqir']\n",
      "['qasim', 'khawer', 'apple', 'banana', 'khawer', 'taqi', 'baqir']\n",
      "['qasim', 'khawer', 'apple', 'banana', 'khawer', 'taqi', 'baqir']\n",
      "['qasim', 'khawer', 'apple', 'banana', 'khawer', 'taqi', 'baqir']\n",
      "['qasim', 'khawer', 'apple', 'banana', 'khawer', 'taqi', 'baqir']\n"
     ]
    }
   ],
   "source": [
    "for i in mylist:\n",
    "    print(mylist)"
   ]
  },
  {
   "cell_type": "code",
   "execution_count": 61,
   "id": "542f0366",
   "metadata": {},
   "outputs": [
    {
     "name": "stdout",
     "output_type": "stream",
     "text": [
      "['qasim', 'khawer', 'apple', 'banana', 'khawer', 'taqi', 'baqir']\n",
      "['qasim', 'khawer', 'apple', 'banana', 'khawer', 'taqi', 'baqir']\n",
      "['qasim', 'khawer', 'apple', 'banana', 'khawer', 'taqi', 'baqir']\n",
      "['qasim', 'khawer', 'apple', 'banana', 'khawer', 'taqi', 'baqir']\n",
      "['qasim', 'khawer', 'apple', 'banana', 'khawer', 'taqi', 'baqir']\n",
      "['qasim', 'khawer', 'apple', 'banana', 'khawer', 'taqi', 'baqir']\n",
      "['qasim', 'khawer', 'apple', 'banana', 'khawer', 'taqi', 'baqir']\n"
     ]
    }
   ],
   "source": [
    "for i in range(len(mylist)):\n",
    "    print(mylist)"
   ]
  },
  {
   "cell_type": "code",
   "execution_count": 62,
   "id": "ffb3add9",
   "metadata": {},
   "outputs": [
    {
     "name": "stdout",
     "output_type": "stream",
     "text": [
      "0 -> qasim\n",
      "1 -> khawer\n",
      "2 -> apple\n",
      "3 -> banana\n",
      "4 -> khawer\n",
      "5 -> taqi\n",
      "6 -> baqir\n"
     ]
    }
   ],
   "source": [
    "i = 0\n",
    "while i < len(mylist):\n",
    "  print(i,\"->\",mylist[i])\n",
    "  i = i + 1\n"
   ]
  },
  {
   "cell_type": "code",
   "execution_count": 63,
   "id": "ce83acba",
   "metadata": {},
   "outputs": [
    {
     "name": "stdout",
     "output_type": "stream",
     "text": [
      "['qasim', 'khawer', 'apple', 'banana', 'khawer', 'taqi', 'baqir']\n"
     ]
    }
   ],
   "source": [
    "newlist=[]\n",
    "for i in mylist:\n",
    "    if \"a\" in i:\n",
    "        newlist.append(i)\n",
    "print(newlist)"
   ]
  },
  {
   "cell_type": "code",
   "execution_count": 64,
   "id": "4b334031",
   "metadata": {},
   "outputs": [
    {
     "data": {
      "text/plain": [
       "['qasim', 'khawer', 'apple', 'banana', 'khawer', 'taqi', 'baqir']"
      ]
     },
     "execution_count": 64,
     "metadata": {},
     "output_type": "execute_result"
    }
   ],
   "source": [
    "newlist"
   ]
  },
  {
   "cell_type": "code",
   "execution_count": 65,
   "id": "ee52acda",
   "metadata": {},
   "outputs": [
    {
     "data": {
      "text/plain": [
       "[0, 1, 2, 3, 4, 5, 6, 7, 8, 9]"
      ]
     },
     "execution_count": 65,
     "metadata": {},
     "output_type": "execute_result"
    }
   ],
   "source": [
    "list2=[x for x in range(10)]\n",
    "list2"
   ]
  },
  {
   "cell_type": "code",
   "execution_count": 66,
   "id": "4f94d2e1",
   "metadata": {},
   "outputs": [
    {
     "data": {
      "text/plain": [
       "['QASIM', 'KHAWER', 'APPLE', 'BANANA', 'KHAWER', 'TAQI', 'BAQIR']"
      ]
     },
     "execution_count": 66,
     "metadata": {},
     "output_type": "execute_result"
    }
   ],
   "source": [
    "newlist2=[x.upper() for x in newlist]\n",
    "newlist2"
   ]
  },
  {
   "cell_type": "code",
   "execution_count": 67,
   "id": "fa80921e",
   "metadata": {},
   "outputs": [
    {
     "name": "stdout",
     "output_type": "stream",
     "text": [
      "['QASIM', 'KHAWER', 'APPLE', 'orange', 'KHAWER', 'TAQI', 'BAQIR']\n"
     ]
    }
   ],
   "source": [
    "newlist = [x if x != \"BANANA\" else \"orange\" for x in newlist2]\n",
    "print(newlist)\n"
   ]
  },
  {
   "cell_type": "code",
   "execution_count": 68,
   "id": "11ca6ecc",
   "metadata": {
    "scrolled": true
   },
   "outputs": [
    {
     "data": {
      "text/plain": [
       "['APPLE', 'BAQIR', 'KHAWER', 'KHAWER', 'QASIM', 'TAQI', 'orange']"
      ]
     },
     "execution_count": 68,
     "metadata": {},
     "output_type": "execute_result"
    }
   ],
   "source": [
    "newlist.sort()\n",
    "newlist"
   ]
  },
  {
   "cell_type": "code",
   "execution_count": 69,
   "id": "d63916e0",
   "metadata": {},
   "outputs": [
    {
     "data": {
      "text/plain": [
       "['orange', 'TAQI', 'QASIM', 'KHAWER', 'KHAWER', 'BAQIR', 'APPLE']"
      ]
     },
     "execution_count": 69,
     "metadata": {},
     "output_type": "execute_result"
    }
   ],
   "source": [
    "newlist.sort(reverse=True)\n",
    "newlist"
   ]
  },
  {
   "cell_type": "code",
   "execution_count": 70,
   "id": "8ce1b5e7",
   "metadata": {},
   "outputs": [
    {
     "name": "stdout",
     "output_type": "stream",
     "text": [
      "['qasim', 'khawer', 'apple', 'banana', 'khawer', 'taqi', 'baqir']\n"
     ]
    }
   ],
   "source": [
    "newlist=list(mylist)\n",
    "print (newlist)"
   ]
  },
  {
   "cell_type": "code",
   "execution_count": 71,
   "id": "6d76f761",
   "metadata": {},
   "outputs": [
    {
     "data": {
      "text/plain": [
       "['qasim', 'khawer', 'apple', 'banana', 'khawer', 'taqi', 'baqir']"
      ]
     },
     "execution_count": 71,
     "metadata": {},
     "output_type": "execute_result"
    }
   ],
   "source": [
    "mylist"
   ]
  },
  {
   "cell_type": "code",
   "execution_count": 72,
   "id": "eb836c36",
   "metadata": {
    "scrolled": true
   },
   "outputs": [
    {
     "data": {
      "text/plain": [
       "['qasim',\n",
       " 'khawer',\n",
       " 'apple',\n",
       " 'banana',\n",
       " 'khawer',\n",
       " 'taqi',\n",
       " 'baqir',\n",
       " 'QASIM',\n",
       " 'KHAWER',\n",
       " 'APPLE',\n",
       " 'BANANA',\n",
       " 'KHAWER',\n",
       " 'TAQI',\n",
       " 'BAQIR']"
      ]
     },
     "execution_count": 72,
     "metadata": {},
     "output_type": "execute_result"
    }
   ],
   "source": [
    "list_f=mylist+newlist2\n",
    "list_f"
   ]
  },
  {
   "cell_type": "code",
   "execution_count": 73,
   "id": "446a206e",
   "metadata": {},
   "outputs": [
    {
     "name": "stdout",
     "output_type": "stream",
     "text": [
      "['QASIM', 'KHAWER', 'APPLE', 'BANANA', 'KHAWER', 'TAQI', 'BAQIR', 'qasim', 'khawer', 'apple', 'banana', 'khawer', 'taqi', 'baqir']\n"
     ]
    }
   ],
   "source": [
    "for x in mylist:\n",
    "    newlist2.append(x)\n",
    "print(newlist2)"
   ]
  },
  {
   "cell_type": "code",
   "execution_count": 74,
   "id": "4715e66c",
   "metadata": {
    "scrolled": true
   },
   "outputs": [
    {
     "data": {
      "text/plain": [
       "['qasim',\n",
       " 'khawer',\n",
       " 'apple',\n",
       " 'banana',\n",
       " 'khawer',\n",
       " 'taqi',\n",
       " 'baqir',\n",
       " 'qasim',\n",
       " 'khawer',\n",
       " 'apple',\n",
       " 'banana',\n",
       " 'khawer',\n",
       " 'taqi',\n",
       " 'baqir',\n",
       " 'QASIM',\n",
       " 'KHAWER',\n",
       " 'APPLE',\n",
       " 'BANANA',\n",
       " 'KHAWER',\n",
       " 'TAQI',\n",
       " 'BAQIR']"
      ]
     },
     "execution_count": 74,
     "metadata": {},
     "output_type": "execute_result"
    }
   ],
   "source": [
    "mylist.extend(list_f)\n",
    "mylist"
   ]
  },
  {
   "cell_type": "markdown",
   "id": "63ad6af5",
   "metadata": {},
   "source": [
    "# List to string"
   ]
  },
  {
   "cell_type": "code",
   "execution_count": 2,
   "id": "20eb8887",
   "metadata": {},
   "outputs": [
    {
     "name": "stdout",
     "output_type": "stream",
     "text": [
      "england\n",
      "poland\n"
     ]
    }
   ],
   "source": [
    "lst3=['pakistan','england','poland']\n",
    "mystr=\"\"\n",
    "for i in lst3:\n",
    "    mystr+=i+\" \"\n",
    "for item in lst3:\n",
    "    if item.endswith(\"land\"):\n",
    "        print(item)"
   ]
  },
  {
   "cell_type": "markdown",
   "id": "e573cdc5",
   "metadata": {},
   "source": [
    "# Nested Listed"
   ]
  },
  {
   "cell_type": "code",
   "execution_count": 75,
   "id": "df8aea8e",
   "metadata": {},
   "outputs": [
    {
     "name": "stdout",
     "output_type": "stream",
     "text": [
      "['qasim', 'Raza']\n",
      "['haider', 'khawer']\n",
      "['wasi', 'khawer']\n"
     ]
    }
   ],
   "source": [
    "nes_list=[['qasim','Raza'],['haider','khawer'],['wasi','khawer']]\n",
    "for x in nes_list:\n",
    "    print(x)"
   ]
  },
  {
   "cell_type": "code",
   "execution_count": 76,
   "id": "d92b8a0a",
   "metadata": {},
   "outputs": [
    {
     "data": {
      "text/plain": [
       "3"
      ]
     },
     "execution_count": 76,
     "metadata": {},
     "output_type": "execute_result"
    }
   ],
   "source": [
    "len(nes_list)"
   ]
  },
  {
   "cell_type": "code",
   "execution_count": 77,
   "id": "2da71bf9",
   "metadata": {},
   "outputs": [],
   "source": [
    "import numpy as np"
   ]
  },
  {
   "cell_type": "code",
   "execution_count": 78,
   "id": "f00f4994",
   "metadata": {},
   "outputs": [
    {
     "name": "stdout",
     "output_type": "stream",
     "text": [
      "Shape: (3, 2)\n"
     ]
    }
   ],
   "source": [
    "print(\"Shape:\",np.shape(nes_list))"
   ]
  },
  {
   "cell_type": "code",
   "execution_count": 79,
   "id": "4fbd94a6",
   "metadata": {},
   "outputs": [
    {
     "data": {
      "text/plain": [
       "list"
      ]
     },
     "execution_count": 79,
     "metadata": {},
     "output_type": "execute_result"
    }
   ],
   "source": [
    "type(nes_list)"
   ]
  },
  {
   "cell_type": "code",
   "execution_count": 80,
   "id": "d3a70909",
   "metadata": {},
   "outputs": [
    {
     "data": {
      "text/plain": [
       "[['qasim', 'haider', 'asdf'],\n",
       " ['Raza', 'khawer', 'qasim'],\n",
       " ['ahmed', 'khawer', 'haider']]"
      ]
     },
     "execution_count": 80,
     "metadata": {},
     "output_type": "execute_result"
    }
   ],
   "source": [
    "list2= [['qasim','haider','asdf'],['Raza','khawer'],['ahmed','khawer']]\n",
    "list2[1].append(\"qasim\")\n",
    "list2[2].append(\"haider\")\n",
    "list2"
   ]
  },
  {
   "cell_type": "code",
   "execution_count": 81,
   "id": "cb9942c4",
   "metadata": {},
   "outputs": [
    {
     "data": {
      "text/plain": [
       "[['qasim', 'haider', 'asdf'], ['Raza', 'khawer', 'qasim'], ['ahmed', 'khawer']]"
      ]
     },
     "execution_count": 81,
     "metadata": {},
     "output_type": "execute_result"
    }
   ],
   "source": [
    "list2[2].pop()\n",
    "list2"
   ]
  },
  {
   "cell_type": "code",
   "execution_count": 82,
   "id": "9c8f65a0",
   "metadata": {},
   "outputs": [
    {
     "data": {
      "text/plain": [
       "[['qasim', 'haider', 'asdf'], ['Raza', 'khawer'], ['ahmed', 'khawer']]"
      ]
     },
     "execution_count": 82,
     "metadata": {},
     "output_type": "execute_result"
    }
   ],
   "source": [
    "list2[1].remove(\"qasim\")\n",
    "list2"
   ]
  },
  {
   "cell_type": "code",
   "execution_count": 83,
   "id": "0e5927b1",
   "metadata": {},
   "outputs": [
    {
     "data": {
      "text/plain": [
       "[['qasim', 'asdf'], ['Raza', 'khawer'], ['ahmed', 'khawer']]"
      ]
     },
     "execution_count": 83,
     "metadata": {},
     "output_type": "execute_result"
    }
   ],
   "source": [
    "list2[0].remove(\"haider\")\n",
    "list2"
   ]
  },
  {
   "cell_type": "code",
   "execution_count": 3,
   "id": "3bbdc62b",
   "metadata": {},
   "outputs": [
    {
     "name": "stdout",
     "output_type": "stream",
     "text": [
      "[1]  [1, 2]  [1, 2, 3]  \n",
      "[1, 2, 3, 4]  [1, 2, 3, 4, 5]  [1, 2, 3, 4, 5, 6]  \n",
      "[1, 2, 3, 4, 5, 6, 7]  [1, 2, 3, 4, 5, 6, 7, 8]  [1, 2, 3, 4, 5, 6, 7, 8, 9]  \n"
     ]
    }
   ],
   "source": [
    "lst=[]\n",
    "x=0\n",
    "for i in range(3):\n",
    "    for i in range(3):\n",
    "        x+=1\n",
    "        lst.append(x)\n",
    "        print(lst, end = '  ')\n",
    "    print()"
   ]
  },
  {
   "cell_type": "code",
   "execution_count": 4,
   "id": "a0cd52b1",
   "metadata": {
    "scrolled": true
   },
   "outputs": [
    {
     "name": "stdout",
     "output_type": "stream",
     "text": [
      "7\n",
      "[0, 1, 2, 3, 4, 5, 6, 8]\n",
      "\n",
      "[0, 1, 2]\n",
      "[3, 4, 5]\n",
      "[6, 'x', 8]\n",
      "3\n",
      "[0, 1, 2, 4, 5, 6, 8]\n",
      "\n",
      "[0, 1, 2]\n",
      "['x', 4, 5]\n",
      "[6, 'x', 8]\n",
      "0\n",
      "[1, 2, 4, 5, 6, 8]\n",
      "\n",
      "['x', 1, 2]\n",
      "['x', 4, 5]\n",
      "[6, 'x', 8]\n",
      "1\n",
      "[2, 4, 5, 6, 8]\n",
      "\n",
      "['x', 'x', 2]\n",
      "['x', 4, 5]\n",
      "[6, 'x', 8]\n",
      "5\n",
      "[2, 4, 6, 8]\n",
      "\n",
      "['x', 'x', 2]\n",
      "['x', 4, 'x']\n",
      "[6, 'x', 8]\n",
      "4\n",
      "[2, 6, 8]\n",
      "\n",
      "['x', 'x', 2]\n",
      "['x', 'x', 'x']\n",
      "[6, 'x', 8]\n",
      "2\n",
      "[6, 8]\n",
      "\n",
      "['x', 'x', 'x']\n",
      "['x', 'x', 'x']\n",
      "[6, 'x', 8]\n",
      "8\n",
      "[6]\n",
      "\n",
      "['x', 'x', 'x']\n",
      "['x', 'x', 'x']\n",
      "[6, 'x', 'x']\n",
      "6\n",
      "[]\n",
      "\n",
      "['x', 'x', 'x']\n",
      "['x', 'x', 'x']\n",
      "['x', 'x', 'x']\n"
     ]
    }
   ],
   "source": [
    "import random\n",
    "lst=[0,1,2,3,4,5,6,7,8]\n",
    "lst2=[0,1,2,3,4,5,6,7,8]\n",
    "for i in range(len(lst)):\n",
    "    item=random.choice(lst)\n",
    "    print(item)\n",
    "    lst.remove(item)\n",
    "    print(lst)\n",
    "    lst2[item]='x'\n",
    "    print(f\"\"\"\\n{lst2[:3]}\\n{lst2[3:6]}\\n{lst2[6:9]}\"\"\")"
   ]
  },
  {
   "cell_type": "code",
   "execution_count": 9,
   "id": "00f0e7c8",
   "metadata": {
    "scrolled": true
   },
   "outputs": [
    {
     "name": "stdout",
     "output_type": "stream",
     "text": [
      "Enter Number from list:2\n",
      "\n",
      "[0, 1, '*']\n",
      "[3, 4, 5]\n",
      "[6, 7, 8]\n"
     ]
    }
   ],
   "source": [
    "lst2=[0,1,2,3,4,5,6,7,8]\n",
    "t=int(input('Enter Number from list:'))\n",
    "for i in lst2:\n",
    "    if i==t:\n",
    "        lst2[i]='*'\n",
    "print(f\"\"\"\\n{lst2[:3]}\\n{lst2[3:6]}\\n{lst2[6:9]}\"\"\")"
   ]
  },
  {
   "cell_type": "code",
   "execution_count": 10,
   "id": "4436b142",
   "metadata": {
    "scrolled": false
   },
   "outputs": [
    {
     "name": "stdout",
     "output_type": "stream",
     "text": [
      "Enter Number from list:2\n",
      "change index\n",
      "\n",
      "[0, 1, '*']\n",
      "[3, 4, 5]\n",
      "[6, 7, 8]\n"
     ]
    }
   ],
   "source": [
    "t=int(input('Enter Number from list:'))\n",
    "for i in lst2:\n",
    "    if i==t:\n",
    "        lst2[i]='*'\n",
    "    elif i=='*':\n",
    "        print(\"change index\")\n",
    "      \n",
    "print(f\"\"\"\\n{lst2[:3]}\\n{lst2[3:6]}\\n{lst2[6:9]}\"\"\")"
   ]
  },
  {
   "cell_type": "code",
   "execution_count": 64,
   "id": "fb8c6840",
   "metadata": {},
   "outputs": [
    {
     "name": "stdout",
     "output_type": "stream",
     "text": [
      "How many numbers::: 2\n",
      "Enter number: 3\n",
      "Enter number: 2\n",
      "Type error occured\n"
     ]
    }
   ],
   "source": [
    "try:\n",
    "    def add():\n",
    "        summ=0\n",
    "        lst= []\n",
    "        num = int(input('How many numbers::: '))\n",
    "        for n in range(num):\n",
    "            numbers =input('Enter number: ')\n",
    "            lst.append(numbers)   \n",
    "        for i in lst:\n",
    "            summ=summ+i\n",
    "        return summ\n",
    "    print(add())\n",
    "\n",
    "except TypeError:\n",
    "    print('Type error occured')  "
   ]
  },
  {
   "cell_type": "markdown",
   "id": "017a1955",
   "metadata": {},
   "source": [
    "## Program"
   ]
  },
  {
   "cell_type": "code",
   "execution_count": null,
   "id": "67d5366e",
   "metadata": {},
   "outputs": [],
   "source": []
  },
  {
   "cell_type": "code",
   "execution_count": null,
   "id": "ff10044b",
   "metadata": {},
   "outputs": [],
   "source": []
  },
  {
   "cell_type": "code",
   "execution_count": 84,
   "id": "2e1974d4",
   "metadata": {},
   "outputs": [],
   "source": [
    "import random"
   ]
  },
  {
   "cell_type": "code",
   "execution_count": 85,
   "id": "4aa50495",
   "metadata": {},
   "outputs": [
    {
     "name": "stdout",
     "output_type": "stream",
     "text": [
      "Enter Money:2222\n",
      "....Order Pizza...\n"
     ]
    }
   ],
   "source": [
    "mylist=['Qorma','Biryani','karhai','Daal']\n",
    "money=int(input(\"Enter Money:\"))\n",
    "if money>1500:\n",
    "    print(\"....Order Pizza...\")\n",
    "else:\n",
    "  print(random.choice(mylist))"
   ]
  },
  {
   "cell_type": "code",
   "execution_count": null,
   "id": "32d759ee",
   "metadata": {},
   "outputs": [],
   "source": []
  },
  {
   "cell_type": "markdown",
   "id": "91b88ef7",
   "metadata": {},
   "source": [
    "# Tuples"
   ]
  },
  {
   "cell_type": "code",
   "execution_count": 86,
   "id": "b8edfd3d",
   "metadata": {},
   "outputs": [
    {
     "data": {
      "text/plain": [
       "('qasim', 'haider', 'Raza')"
      ]
     },
     "execution_count": 86,
     "metadata": {},
     "output_type": "execute_result"
    }
   ],
   "source": [
    "mytup=(\"qasim\",\"haider\",\"Raza\")\n",
    "mytup"
   ]
  },
  {
   "cell_type": "code",
   "execution_count": 87,
   "id": "8271673c",
   "metadata": {},
   "outputs": [
    {
     "data": {
      "text/plain": [
       "3"
      ]
     },
     "execution_count": 87,
     "metadata": {},
     "output_type": "execute_result"
    }
   ],
   "source": [
    "len(mytup)"
   ]
  },
  {
   "cell_type": "code",
   "execution_count": 88,
   "id": "d17dcced",
   "metadata": {},
   "outputs": [
    {
     "data": {
      "text/plain": [
       "'qasim'"
      ]
     },
     "execution_count": 88,
     "metadata": {},
     "output_type": "execute_result"
    }
   ],
   "source": [
    "mytup[0]"
   ]
  },
  {
   "cell_type": "code",
   "execution_count": 89,
   "id": "e3d0db3b",
   "metadata": {},
   "outputs": [
    {
     "data": {
      "text/plain": [
       "'Raza'"
      ]
     },
     "execution_count": 89,
     "metadata": {},
     "output_type": "execute_result"
    }
   ],
   "source": [
    "mytup[-1]"
   ]
  },
  {
   "cell_type": "code",
   "execution_count": 90,
   "id": "bf835c09",
   "metadata": {},
   "outputs": [
    {
     "data": {
      "text/plain": [
       "('qasim', 'haider')"
      ]
     },
     "execution_count": 90,
     "metadata": {},
     "output_type": "execute_result"
    }
   ],
   "source": [
    "mytup[0:2]"
   ]
  },
  {
   "cell_type": "code",
   "execution_count": 91,
   "id": "a4a17e35",
   "metadata": {},
   "outputs": [
    {
     "data": {
      "text/plain": [
       "('Raza',)"
      ]
     },
     "execution_count": 91,
     "metadata": {},
     "output_type": "execute_result"
    }
   ],
   "source": [
    "mytup[2:]"
   ]
  },
  {
   "cell_type": "code",
   "execution_count": 92,
   "id": "9321a9be",
   "metadata": {},
   "outputs": [
    {
     "data": {
      "text/plain": [
       "['item1', 'item2', 'item3', 'item4']"
      ]
     },
     "execution_count": 92,
     "metadata": {},
     "output_type": "execute_result"
    }
   ],
   "source": [
    "tpl = ('item1', 'item2', 'item3','item4')\n",
    "lst = list(tpl)\n",
    "lst"
   ]
  },
  {
   "cell_type": "code",
   "execution_count": 93,
   "id": "be24e307",
   "metadata": {},
   "outputs": [
    {
     "name": "stdout",
     "output_type": "stream",
     "text": [
      "True\n"
     ]
    }
   ],
   "source": [
    "print('item2' in tpl)"
   ]
  },
  {
   "cell_type": "code",
   "execution_count": 94,
   "id": "cf4f0ed9",
   "metadata": {},
   "outputs": [
    {
     "data": {
      "text/plain": [
       "('qasim', 'haider', 'Raza', 'item1', 'item2', 'item3', 'item4')"
      ]
     },
     "execution_count": 94,
     "metadata": {},
     "output_type": "execute_result"
    }
   ],
   "source": [
    "tup2=mytup+tpl\n",
    "tup2"
   ]
  },
  {
   "cell_type": "code",
   "execution_count": 95,
   "id": "a7824283",
   "metadata": {},
   "outputs": [
    {
     "data": {
      "text/plain": [
       "1"
      ]
     },
     "execution_count": 95,
     "metadata": {},
     "output_type": "execute_result"
    }
   ],
   "source": [
    "mytup.count('haider')"
   ]
  },
  {
   "cell_type": "code",
   "execution_count": 96,
   "id": "c26a760c",
   "metadata": {},
   "outputs": [
    {
     "data": {
      "text/plain": [
       "2"
      ]
     },
     "execution_count": 96,
     "metadata": {},
     "output_type": "execute_result"
    }
   ],
   "source": [
    "mytup.index('Raza')"
   ]
  },
  {
   "cell_type": "code",
   "execution_count": null,
   "id": "d9c8b2bf",
   "metadata": {},
   "outputs": [],
   "source": []
  },
  {
   "cell_type": "markdown",
   "id": "fcb150e1",
   "metadata": {},
   "source": [
    "# Sets:"
   ]
  },
  {
   "cell_type": "code",
   "execution_count": 97,
   "id": "5af01dec",
   "metadata": {},
   "outputs": [
    {
     "data": {
      "text/plain": [
       "{'haider', 'khawer', 'qasim', 'raza'}"
      ]
     },
     "execution_count": 97,
     "metadata": {},
     "output_type": "execute_result"
    }
   ],
   "source": [
    "myset={'qasim','haider','raza','khawer'}\n",
    "myset"
   ]
  },
  {
   "cell_type": "code",
   "execution_count": 98,
   "id": "59d47228",
   "metadata": {},
   "outputs": [
    {
     "data": {
      "text/plain": [
       "4"
      ]
     },
     "execution_count": 98,
     "metadata": {},
     "output_type": "execute_result"
    }
   ],
   "source": [
    "len(myset)"
   ]
  },
  {
   "cell_type": "code",
   "execution_count": 99,
   "id": "778d74cf",
   "metadata": {},
   "outputs": [
    {
     "name": "stdout",
     "output_type": "stream",
     "text": [
      "True\n"
     ]
    }
   ],
   "source": [
    "print(\"qasim\" in myset)"
   ]
  },
  {
   "cell_type": "code",
   "execution_count": 100,
   "id": "98baabc8",
   "metadata": {},
   "outputs": [
    {
     "data": {
      "text/plain": [
       "{'baqir', 'haider', 'hamza', 'iqrar', 'khawer', 'qasim', 'raza', 'wasi', 'zia'}"
      ]
     },
     "execution_count": 100,
     "metadata": {},
     "output_type": "execute_result"
    }
   ],
   "source": [
    "myset.update(['wasi','hamza','iqrar','zia','baqir'])\n",
    "myset"
   ]
  },
  {
   "cell_type": "code",
   "execution_count": 101,
   "id": "5a1d36d4",
   "metadata": {},
   "outputs": [
    {
     "data": {
      "text/plain": [
       "{'baqir', 'haider', 'hamza', 'iqrar', 'khawer', 'qasim', 'wasi', 'zia'}"
      ]
     },
     "execution_count": 101,
     "metadata": {},
     "output_type": "execute_result"
    }
   ],
   "source": [
    "myset.remove(\"raza\")\n",
    "myset"
   ]
  },
  {
   "cell_type": "code",
   "execution_count": 102,
   "id": "9a78787b",
   "metadata": {},
   "outputs": [
    {
     "data": {
      "text/plain": [
       "{'baqir', 'haider', 'hamza', 'iqrar', 'khawer', 'qasim', 'wasi', 'zia'}"
      ]
     },
     "execution_count": 102,
     "metadata": {},
     "output_type": "execute_result"
    }
   ],
   "source": [
    "set2=myset.copy()\n",
    "set2"
   ]
  },
  {
   "cell_type": "code",
   "execution_count": 103,
   "id": "5a095e12",
   "metadata": {},
   "outputs": [
    {
     "data": {
      "text/plain": [
       "<function set.clear>"
      ]
     },
     "execution_count": 103,
     "metadata": {},
     "output_type": "execute_result"
    }
   ],
   "source": [
    "set2.clear"
   ]
  },
  {
   "cell_type": "code",
   "execution_count": 104,
   "id": "f0a89ac4",
   "metadata": {},
   "outputs": [
    {
     "data": {
      "text/plain": [
       "{'qasim', 'qorma', 'wasi'}"
      ]
     },
     "execution_count": 104,
     "metadata": {},
     "output_type": "execute_result"
    }
   ],
   "source": [
    "set2={'wasi','qasim','qorma'}\n",
    "set2"
   ]
  },
  {
   "cell_type": "code",
   "execution_count": 105,
   "id": "3096faa7",
   "metadata": {},
   "outputs": [
    {
     "data": {
      "text/plain": [
       "{'baqir',\n",
       " 'haider',\n",
       " 'hamza',\n",
       " 'iqrar',\n",
       " 'khawer',\n",
       " 'qasim',\n",
       " 'qorma',\n",
       " 'wasi',\n",
       " 'zia'}"
      ]
     },
     "execution_count": 105,
     "metadata": {},
     "output_type": "execute_result"
    }
   ],
   "source": [
    "st3 = myset.union(set2)\n",
    "st3"
   ]
  },
  {
   "cell_type": "code",
   "execution_count": 106,
   "id": "4ebfdaa2",
   "metadata": {},
   "outputs": [
    {
     "data": {
      "text/plain": [
       "{'qasim', 'wasi'}"
      ]
     },
     "execution_count": 106,
     "metadata": {},
     "output_type": "execute_result"
    }
   ],
   "source": [
    "set4=myset.intersection(set2)\n",
    "set4"
   ]
  },
  {
   "cell_type": "code",
   "execution_count": 107,
   "id": "6c14f9ec",
   "metadata": {},
   "outputs": [
    {
     "data": {
      "text/plain": [
       "False"
      ]
     },
     "execution_count": 107,
     "metadata": {},
     "output_type": "execute_result"
    }
   ],
   "source": [
    "myset.issubset(set4)"
   ]
  },
  {
   "cell_type": "code",
   "execution_count": 108,
   "id": "9eee975e",
   "metadata": {},
   "outputs": [
    {
     "data": {
      "text/plain": [
       "True"
      ]
     },
     "execution_count": 108,
     "metadata": {},
     "output_type": "execute_result"
    }
   ],
   "source": [
    "myset.issuperset(set4)"
   ]
  },
  {
   "cell_type": "code",
   "execution_count": 109,
   "id": "459cdfce",
   "metadata": {},
   "outputs": [
    {
     "data": {
      "text/plain": [
       "{'baqir', 'haider', 'hamza', 'iqrar', 'khawer', 'zia'}"
      ]
     },
     "execution_count": 109,
     "metadata": {},
     "output_type": "execute_result"
    }
   ],
   "source": [
    "myset.difference(set4)"
   ]
  },
  {
   "cell_type": "code",
   "execution_count": 110,
   "id": "9e101e03",
   "metadata": {},
   "outputs": [
    {
     "data": {
      "text/plain": [
       "{'baqir', 'haider', 'hamza', 'iqrar', 'khawer', 'zia'}"
      ]
     },
     "execution_count": 110,
     "metadata": {},
     "output_type": "execute_result"
    }
   ],
   "source": [
    "myset.symmetric_difference(set4)# it means (A\\B)∪(B\\A)"
   ]
  },
  {
   "cell_type": "code",
   "execution_count": 111,
   "id": "649f0a73",
   "metadata": {},
   "outputs": [
    {
     "data": {
      "text/plain": [
       "False"
      ]
     },
     "execution_count": 111,
     "metadata": {},
     "output_type": "execute_result"
    }
   ],
   "source": [
    "myset.isdisjoint(set4)"
   ]
  },
  {
   "cell_type": "code",
   "execution_count": null,
   "id": "ec014cf1",
   "metadata": {},
   "outputs": [],
   "source": []
  },
  {
   "cell_type": "code",
   "execution_count": null,
   "id": "abc41d52",
   "metadata": {},
   "outputs": [],
   "source": []
  },
  {
   "cell_type": "markdown",
   "id": "3216e92e",
   "metadata": {},
   "source": [
    "# Dictionary"
   ]
  },
  {
   "cell_type": "code",
   "execution_count": 112,
   "id": "7aa51f5c",
   "metadata": {},
   "outputs": [
    {
     "data": {
      "text/plain": [
       "{'friend1': 'haider',\n",
       " 'friend2': 'khawer',\n",
       " 'friend3': 'raza',\n",
       " 'friend4': 'wasi'}"
      ]
     },
     "execution_count": 112,
     "metadata": {},
     "output_type": "execute_result"
    }
   ],
   "source": [
    "mydic={\"friend1\":\"haider\",\"friend2\":\"khawer\",\"friend3\":\"raza\",\"friend4\":\"wasi\"}\n",
    "mydic"
   ]
  },
  {
   "cell_type": "code",
   "execution_count": 113,
   "id": "dedd9027",
   "metadata": {
    "scrolled": true
   },
   "outputs": [
    {
     "data": {
      "text/plain": [
       "{'Name': 'haider',\n",
       " 'Adress': 'karadla',\n",
       " 'is married': False,\n",
       " 'Age': 22,\n",
       " 'skills': ['python', 'html', 'java script', 'sql']}"
      ]
     },
     "execution_count": 113,
     "metadata": {},
     "output_type": "execute_result"
    }
   ],
   "source": [
    "friend={\"Name\":'haider',\n",
    "        \"Adress\":\"karadla\",\n",
    "        'is married':False,\n",
    "        'Age':22,\n",
    "        'skills':['python','html','java script','sql']\n",
    "        \n",
    "       }\n",
    "friend"
   ]
  },
  {
   "cell_type": "code",
   "execution_count": 114,
   "id": "24addbc1",
   "metadata": {},
   "outputs": [
    {
     "data": {
      "text/plain": [
       "4"
      ]
     },
     "execution_count": 114,
     "metadata": {},
     "output_type": "execute_result"
    }
   ],
   "source": [
    "len(mydic)"
   ]
  },
  {
   "cell_type": "code",
   "execution_count": 115,
   "id": "a07fb6cf",
   "metadata": {},
   "outputs": [
    {
     "name": "stdout",
     "output_type": "stream",
     "text": [
      "haider\n"
     ]
    }
   ],
   "source": [
    "print(mydic[\"friend1\"])"
   ]
  },
  {
   "cell_type": "code",
   "execution_count": 116,
   "id": "0641c8eb",
   "metadata": {},
   "outputs": [
    {
     "data": {
      "text/plain": [
       "{'friend1': 'haider', 'friend2': 'hamza', 'friend3': 'raza', 'friend4': 'wasi'}"
      ]
     },
     "execution_count": 116,
     "metadata": {},
     "output_type": "execute_result"
    }
   ],
   "source": [
    "mydic[\"friend2\"]='hamza'\n",
    "mydic"
   ]
  },
  {
   "cell_type": "code",
   "execution_count": 117,
   "id": "fb757e61",
   "metadata": {},
   "outputs": [
    {
     "data": {
      "text/plain": [
       "{'friend1': 'haider', 'friend2': 'iqrar', 'friend3': 'raza', 'friend4': 'wasi'}"
      ]
     },
     "execution_count": 117,
     "metadata": {},
     "output_type": "execute_result"
    }
   ],
   "source": [
    "mydic['friend2']='iqrar'\n",
    "mydic"
   ]
  },
  {
   "cell_type": "code",
   "execution_count": 118,
   "id": "3a2f882d",
   "metadata": {},
   "outputs": [
    {
     "name": "stdout",
     "output_type": "stream",
     "text": [
      "True\n"
     ]
    }
   ],
   "source": [
    "print('friend1'in mydic)"
   ]
  },
  {
   "cell_type": "code",
   "execution_count": 119,
   "id": "3789a3f8",
   "metadata": {},
   "outputs": [
    {
     "data": {
      "text/plain": [
       "'raza'"
      ]
     },
     "execution_count": 119,
     "metadata": {},
     "output_type": "execute_result"
    }
   ],
   "source": [
    "mydic.pop('friend3')"
   ]
  },
  {
   "cell_type": "code",
   "execution_count": 120,
   "id": "08d0acd1",
   "metadata": {},
   "outputs": [
    {
     "data": {
      "text/plain": [
       "('friend4', 'wasi')"
      ]
     },
     "execution_count": 120,
     "metadata": {},
     "output_type": "execute_result"
    }
   ],
   "source": [
    "mydic.popitem()"
   ]
  },
  {
   "cell_type": "code",
   "execution_count": 121,
   "id": "6e20e148",
   "metadata": {},
   "outputs": [],
   "source": [
    "del mydic['friend1']"
   ]
  },
  {
   "cell_type": "code",
   "execution_count": 122,
   "id": "fcb4d800",
   "metadata": {},
   "outputs": [
    {
     "data": {
      "text/plain": [
       "{'friend2': 'iqrar'}"
      ]
     },
     "execution_count": 122,
     "metadata": {},
     "output_type": "execute_result"
    }
   ],
   "source": [
    "mydic"
   ]
  },
  {
   "cell_type": "code",
   "execution_count": 123,
   "id": "cd52ad80",
   "metadata": {},
   "outputs": [
    {
     "data": {
      "text/plain": [
       "{'friend1': 'haider',\n",
       " 'friend2': 'khawer',\n",
       " 'friend3': 'raza',\n",
       " 'friend4': 'wasi'}"
      ]
     },
     "execution_count": 123,
     "metadata": {},
     "output_type": "execute_result"
    }
   ],
   "source": [
    "dic={\"friend1\":\"haider\",\"friend2\":\"khawer\",\"friend3\":\"raza\",\"friend4\":\"wasi\"}\n",
    "dic"
   ]
  },
  {
   "cell_type": "code",
   "execution_count": 124,
   "id": "869d0f30",
   "metadata": {},
   "outputs": [
    {
     "name": "stdout",
     "output_type": "stream",
     "text": [
      "dict_items([('friend1', 'haider'), ('friend2', 'khawer'), ('friend3', 'raza'), ('friend4', 'wasi')])\n"
     ]
    }
   ],
   "source": [
    "print(dic.items())"
   ]
  },
  {
   "cell_type": "code",
   "execution_count": 125,
   "id": "dfb42a56",
   "metadata": {},
   "outputs": [
    {
     "data": {
      "text/plain": [
       "{'friend1': 'haider',\n",
       " 'friend2': 'khawer',\n",
       " 'friend3': 'raza',\n",
       " 'friend4': 'wasi'}"
      ]
     },
     "execution_count": 125,
     "metadata": {},
     "output_type": "execute_result"
    }
   ],
   "source": [
    "dic2=dic.copy()\n",
    "dic2"
   ]
  },
  {
   "cell_type": "code",
   "execution_count": 126,
   "id": "20c7c7de",
   "metadata": {},
   "outputs": [
    {
     "data": {
      "text/plain": [
       "{}"
      ]
     },
     "execution_count": 126,
     "metadata": {},
     "output_type": "execute_result"
    }
   ],
   "source": [
    "dic2.clear()\n",
    "dic2"
   ]
  },
  {
   "cell_type": "code",
   "execution_count": 127,
   "id": "301035c7",
   "metadata": {},
   "outputs": [],
   "source": [
    "del dic2"
   ]
  },
  {
   "cell_type": "code",
   "execution_count": 128,
   "id": "746c934a",
   "metadata": {},
   "outputs": [
    {
     "data": {
      "text/plain": [
       "dict_keys(['friend1', 'friend2', 'friend3', 'friend4'])"
      ]
     },
     "execution_count": 128,
     "metadata": {},
     "output_type": "execute_result"
    }
   ],
   "source": [
    "dic.keys()"
   ]
  },
  {
   "cell_type": "code",
   "execution_count": 129,
   "id": "99c28f36",
   "metadata": {},
   "outputs": [
    {
     "data": {
      "text/plain": [
       "dict_values(['haider', 'khawer', 'raza', 'wasi'])"
      ]
     },
     "execution_count": 129,
     "metadata": {},
     "output_type": "execute_result"
    }
   ],
   "source": [
    "dic.values()"
   ]
  },
  {
   "cell_type": "code",
   "execution_count": 130,
   "id": "8f6f3385",
   "metadata": {},
   "outputs": [
    {
     "name": "stdout",
     "output_type": "stream",
     "text": [
      "raza\n"
     ]
    }
   ],
   "source": [
    "print(dic.get(\"friend3\"))"
   ]
  },
  {
   "cell_type": "markdown",
   "id": "ccad722d",
   "metadata": {},
   "source": [
    "# Loop in dictionaries"
   ]
  },
  {
   "cell_type": "code",
   "execution_count": 131,
   "id": "9598906a",
   "metadata": {
    "scrolled": true
   },
   "outputs": [
    {
     "name": "stdout",
     "output_type": "stream",
     "text": [
      "first_name\n",
      "last_name\n",
      "age\n",
      "country\n",
      "is_marred\n",
      "skills\n",
      "address\n",
      "first_name Asabeneh\n",
      "last_name Yetayeh\n",
      "age 250\n",
      "country Finland\n",
      "is_marred True\n",
      "skills ['JavaScript', 'React', 'Node', 'MongoDB', 'Python']\n",
      "address {'street': 'Space street', 'zipcode': '02210'}\n"
     ]
    }
   ],
   "source": [
    "person={'first_name':'Asabeneh',\n",
    "    'last_name':'Yetayeh',\n",
    "    'age':250,\n",
    "    'country':'Finland',\n",
    "    'is_marred':True,\n",
    "    'skills':['JavaScript', 'React', 'Node', 'MongoDB', 'Python'],\n",
    "    'address':{\n",
    "        'street':'Space street',\n",
    "        'zipcode':'02210'\n",
    "    }\n",
    "}\n",
    "for key in person:\n",
    "    print(key)\n",
    "\n",
    "for key, value in person.items():\n",
    "    print(key, value)"
   ]
  },
  {
   "cell_type": "code",
   "execution_count": 132,
   "id": "6ffaf859",
   "metadata": {},
   "outputs": [
    {
     "name": "stdout",
     "output_type": "stream",
     "text": [
      "JavaScript\n",
      "React\n",
      "Node\n",
      "MongoDB\n",
      "Python\n"
     ]
    }
   ],
   "source": [
    "for key in person:\n",
    "    if key == 'skills':\n",
    "        for skill in person['skills']:\n",
    "            print(skill)"
   ]
  },
  {
   "cell_type": "code",
   "execution_count": 16,
   "id": "6f7ef215",
   "metadata": {},
   "outputs": [
    {
     "name": "stdout",
     "output_type": "stream",
     "text": [
      "JavaScript\n",
      "React\n",
      "Node\n",
      "MongoDB\n",
      "Python\n"
     ]
    }
   ],
   "source": []
  },
  {
   "cell_type": "code",
   "execution_count": null,
   "id": "b943ff08",
   "metadata": {},
   "outputs": [],
   "source": []
  },
  {
   "cell_type": "code",
   "execution_count": null,
   "id": "ac349704",
   "metadata": {},
   "outputs": [],
   "source": []
  },
  {
   "cell_type": "markdown",
   "id": "3678412a",
   "metadata": {},
   "source": [
    "# Functions"
   ]
  },
  {
   "cell_type": "code",
   "execution_count": 133,
   "id": "82bf15ab",
   "metadata": {},
   "outputs": [
    {
     "name": "stdout",
     "output_type": "stream",
     "text": [
      "Enter the length:2\n",
      "Enter the height:2\n",
      "Area of square: 4\n"
     ]
    }
   ],
   "source": [
    "def area():\n",
    "    length=int(input(\"Enter the length:\"))\n",
    "    height=int(input(\"Enter the height:\"))\n",
    "    square=length*height\n",
    "    return square\n",
    "print(\"Area of square:\",area())\n"
   ]
  },
  {
   "cell_type": "code",
   "execution_count": 134,
   "id": "20e9cb3a",
   "metadata": {
    "scrolled": true
   },
   "outputs": [
    {
     "name": "stdout",
     "output_type": "stream",
     "text": [
      "Enter No.1:1\n",
      "Enter No.2:2\n",
      "Enter your choice(+,-,*,/,**):::-\n",
      "-1\n"
     ]
    }
   ],
   "source": [
    "def calculator(x,y,z):\n",
    "    if z==\"+\":\n",
    "        return x+y\n",
    "    if z==\"-\":\n",
    "        return x-y\n",
    "    if z==\"*\":\n",
    "        return x*y\n",
    "    if z==\"/\":\n",
    "        return x/y\n",
    "    if z==\"**\":\n",
    "        return x**y\n",
    "    else:\n",
    "        print(\"Invalid entry\")\n",
    "x=int(input(\"Enter No.1:\"))\n",
    "y=int(input(\"Enter No.2:\"))\n",
    "z=input(\"Enter your choice(+,-,*,/,**):::\")\n",
    "print(calculator(x,y,z))  "
   ]
  },
  {
   "cell_type": "code",
   "execution_count": 135,
   "id": "6ae16ff9",
   "metadata": {},
   "outputs": [
    {
     "name": "stdout",
     "output_type": "stream",
     "text": [
      "Enter the radius::1\n",
      "3.14\n"
     ]
    }
   ],
   "source": [
    "def area_of_circle (r):\n",
    "    PI = 3.14\n",
    "    area = PI*r**2\n",
    "    return area\n",
    "r=float(input(\"Enter the radius::\"))\n",
    "print(area_of_circle(r))"
   ]
  },
  {
   "cell_type": "code",
   "execution_count": 136,
   "id": "0bef735d",
   "metadata": {},
   "outputs": [
    {
     "name": "stdout",
     "output_type": "stream",
     "text": [
      "5\n"
     ]
    }
   ],
   "source": [
    "def add_two_numbers (num1, num2): \n",
    "    total = num1 + num2\n",
    "    return total\n",
    "print(add_two_numbers(2, 3))"
   ]
  },
  {
   "cell_type": "code",
   "execution_count": null,
   "id": "4eb620d1",
   "metadata": {},
   "outputs": [],
   "source": []
  },
  {
   "cell_type": "code",
   "execution_count": 137,
   "id": "a617e570",
   "metadata": {},
   "outputs": [
    {
     "data": {
      "text/plain": [
       "{'Apple': 3, 'Orange': 1, 'Strawberry': 2, 'Banana': 1}"
      ]
     },
     "execution_count": 137,
     "metadata": {},
     "output_type": "execute_result"
    }
   ],
   "source": [
    "fruits=[\"Apple\",\"Apple\",\"Orange\",\"Strawberry\",\"Strawberry\",\"Banana\",\"Apple\"]\n",
    "d={}\n",
    "for x in fruits:\n",
    "    d[x] = d.get(x,0) + 1\n",
    "d"
   ]
  },
  {
   "cell_type": "code",
   "execution_count": 138,
   "id": "b886b648",
   "metadata": {},
   "outputs": [
    {
     "name": "stdout",
     "output_type": "stream",
     "text": [
      "[1, 1, 1]\n",
      "[2, 2, 2]\n",
      "[3, 3, 3]\n"
     ]
    }
   ],
   "source": [
    "def transp(matrix):\n",
    "    for i in range(len(matrix)):\n",
    "        for j in range(len(matrix[0])):\n",
    "            result[j][i]=matrix[i][j]\n",
    "data = [\n",
    "[1,2,3],\n",
    "[1,2,3],\n",
    "[1,2,3],\n",
    "]\n",
    "result=[[0,0,0],[0,0,0],[0,0,0]]\n",
    "transp(data)\n",
    "for i in result:\n",
    "    print(i)"
   ]
  },
  {
   "cell_type": "code",
   "execution_count": null,
   "id": "37ab84ff",
   "metadata": {},
   "outputs": [],
   "source": []
  },
  {
   "cell_type": "markdown",
   "id": "c6e75f66",
   "metadata": {},
   "source": [
    "# Modules:"
   ]
  },
  {
   "cell_type": "code",
   "execution_count": 139,
   "id": "5d13f1e1",
   "metadata": {},
   "outputs": [],
   "source": [
    "import os"
   ]
  },
  {
   "cell_type": "code",
   "execution_count": null,
   "id": "29b495d2",
   "metadata": {},
   "outputs": [],
   "source": []
  },
  {
   "cell_type": "code",
   "execution_count": 142,
   "id": "39b94ffa",
   "metadata": {},
   "outputs": [],
   "source": [
    "import math"
   ]
  },
  {
   "cell_type": "code",
   "execution_count": 143,
   "id": "5fdfd966",
   "metadata": {},
   "outputs": [
    {
     "name": "stdout",
     "output_type": "stream",
     "text": [
      "sqaure 12.0\n"
     ]
    }
   ],
   "source": [
    "print(\"sqaure\",math.sqrt(144))"
   ]
  },
  {
   "cell_type": "code",
   "execution_count": 144,
   "id": "9267eb7f",
   "metadata": {},
   "outputs": [
    {
     "name": "stdout",
     "output_type": "stream",
     "text": [
      "16.0\n"
     ]
    }
   ],
   "source": [
    "print(math.pow(2,4))"
   ]
  },
  {
   "cell_type": "code",
   "execution_count": 145,
   "id": "dc401932",
   "metadata": {},
   "outputs": [
    {
     "name": "stdout",
     "output_type": "stream",
     "text": [
      "0.47712125471966244\n"
     ]
    }
   ],
   "source": [
    "print(math.log10(3))"
   ]
  },
  {
   "cell_type": "code",
   "execution_count": 146,
   "id": "4b2d7adf",
   "metadata": {},
   "outputs": [],
   "source": [
    "from math import pi"
   ]
  },
  {
   "cell_type": "code",
   "execution_count": 147,
   "id": "ba1e54a8",
   "metadata": {},
   "outputs": [
    {
     "data": {
      "text/plain": [
       "3.141592653589793"
      ]
     },
     "execution_count": 147,
     "metadata": {},
     "output_type": "execute_result"
    }
   ],
   "source": [
    "pi"
   ]
  },
  {
   "cell_type": "code",
   "execution_count": 148,
   "id": "25e4bc4e",
   "metadata": {},
   "outputs": [],
   "source": [
    "from math import * #to import all function of math module"
   ]
  },
  {
   "cell_type": "code",
   "execution_count": 149,
   "id": "776785b3",
   "metadata": {},
   "outputs": [
    {
     "data": {
      "text/plain": [
       "1.7320508075688772"
      ]
     },
     "execution_count": 149,
     "metadata": {},
     "output_type": "execute_result"
    }
   ],
   "source": [
    "sqrt(3)"
   ]
  },
  {
   "cell_type": "code",
   "execution_count": 150,
   "id": "7a176ea6",
   "metadata": {},
   "outputs": [
    {
     "data": {
      "text/plain": [
       "2025.0"
      ]
     },
     "execution_count": 150,
     "metadata": {},
     "output_type": "execute_result"
    }
   ],
   "source": [
    "pow(45,2)"
   ]
  },
  {
   "cell_type": "code",
   "execution_count": 151,
   "id": "96bc9027",
   "metadata": {},
   "outputs": [],
   "source": [
    "import string"
   ]
  },
  {
   "cell_type": "code",
   "execution_count": 152,
   "id": "de57761d",
   "metadata": {},
   "outputs": [
    {
     "data": {
      "text/plain": [
       "'!\"#$%&\\'()*+,-./:;<=>?@[\\\\]^_`{|}~'"
      ]
     },
     "execution_count": 152,
     "metadata": {},
     "output_type": "execute_result"
    }
   ],
   "source": [
    "string.punctuation"
   ]
  },
  {
   "cell_type": "code",
   "execution_count": 153,
   "id": "2a96c3e8",
   "metadata": {},
   "outputs": [
    {
     "data": {
      "text/plain": [
       "'0123456789'"
      ]
     },
     "execution_count": 153,
     "metadata": {},
     "output_type": "execute_result"
    }
   ],
   "source": [
    "string.digits"
   ]
  },
  {
   "cell_type": "code",
   "execution_count": 154,
   "id": "b928ce69",
   "metadata": {},
   "outputs": [],
   "source": [
    "from random import random ,randint"
   ]
  },
  {
   "cell_type": "code",
   "execution_count": 155,
   "id": "d1c74c85",
   "metadata": {},
   "outputs": [
    {
     "name": "stdout",
     "output_type": "stream",
     "text": [
      "0.5076713209574506\n"
     ]
    }
   ],
   "source": [
    "print(random())"
   ]
  },
  {
   "cell_type": "code",
   "execution_count": 156,
   "id": "92103355",
   "metadata": {},
   "outputs": [
    {
     "name": "stdout",
     "output_type": "stream",
     "text": [
      "8\n"
     ]
    }
   ],
   "source": [
    "print(randint(2,8))"
   ]
  },
  {
   "cell_type": "code",
   "execution_count": 157,
   "id": "a84fca0f",
   "metadata": {},
   "outputs": [],
   "source": [
    "from mymodule import add_two_numbers "
   ]
  },
  {
   "cell_type": "code",
   "execution_count": 158,
   "id": "c28cf3f5",
   "metadata": {},
   "outputs": [
    {
     "data": {
      "text/plain": [
       "6"
      ]
     },
     "execution_count": 158,
     "metadata": {},
     "output_type": "execute_result"
    }
   ],
   "source": [
    "add_two_numbers(2,4)"
   ]
  },
  {
   "cell_type": "markdown",
   "id": "6b7a8ad1",
   "metadata": {},
   "source": [
    "# List Comprehension"
   ]
  },
  {
   "cell_type": "code",
   "execution_count": 159,
   "id": "3c0c22c5",
   "metadata": {},
   "outputs": [
    {
     "name": "stdout",
     "output_type": "stream",
     "text": [
      "['Q', 'a', 's', 'i', 'm']\n"
     ]
    }
   ],
   "source": [
    "name='Qasim'\n",
    "lst=list(name)\n",
    "print(lst)"
   ]
  },
  {
   "cell_type": "code",
   "execution_count": 160,
   "id": "7535c664",
   "metadata": {},
   "outputs": [
    {
     "data": {
      "text/plain": [
       "['Q', 'a', 's', 'i', 'm']"
      ]
     },
     "execution_count": 160,
     "metadata": {},
     "output_type": "execute_result"
    }
   ],
   "source": [
    "lst2=[i for i in name]\n",
    "lst2"
   ]
  },
  {
   "cell_type": "code",
   "execution_count": 161,
   "id": "72223f10",
   "metadata": {},
   "outputs": [
    {
     "data": {
      "text/plain": [
       "[0, 1, 2, 3, 4]"
      ]
     },
     "execution_count": 161,
     "metadata": {},
     "output_type": "execute_result"
    }
   ],
   "source": [
    "lst3=[i for i in range(5)]\n",
    "lst3"
   ]
  },
  {
   "cell_type": "code",
   "execution_count": 162,
   "id": "d32809bd",
   "metadata": {},
   "outputs": [
    {
     "data": {
      "text/plain": [
       "[(0, 0), (1, 1), (2, 4), (3, 9), (4, 16)]"
      ]
     },
     "execution_count": 162,
     "metadata": {},
     "output_type": "execute_result"
    }
   ],
   "source": [
    "lst4=[(i,i*i) for i in range(5)]\n",
    "lst4"
   ]
  },
  {
   "cell_type": "code",
   "execution_count": 163,
   "id": "41074e9d",
   "metadata": {},
   "outputs": [
    {
     "data": {
      "text/plain": [
       "[0, 2, 4, 6, 8]"
      ]
     },
     "execution_count": 163,
     "metadata": {},
     "output_type": "execute_result"
    }
   ],
   "source": [
    "even=[i for i in range(10) if i%2==0]\n",
    "even"
   ]
  },
  {
   "cell_type": "markdown",
   "id": "1e332a84",
   "metadata": {},
   "source": [
    "# Lambda Function"
   ]
  },
  {
   "cell_type": "code",
   "execution_count": 164,
   "id": "91332faa",
   "metadata": {},
   "outputs": [
    {
     "name": "stdout",
     "output_type": "stream",
     "text": [
      "9\n"
     ]
    }
   ],
   "source": [
    "add=lambda x,y,z:x+y+z\n",
    "print(add(2,3,4))"
   ]
  },
  {
   "cell_type": "code",
   "execution_count": 165,
   "id": "ce85e584",
   "metadata": {},
   "outputs": [
    {
     "name": "stdout",
     "output_type": "stream",
     "text": [
      "16\n"
     ]
    }
   ],
   "source": [
    "square=lambda x:x**2\n",
    "print(square(4))"
   ]
  },
  {
   "cell_type": "code",
   "execution_count": 166,
   "id": "dd6b5920",
   "metadata": {},
   "outputs": [
    {
     "data": {
      "text/plain": [
       "25"
      ]
     },
     "execution_count": 166,
     "metadata": {},
     "output_type": "execute_result"
    }
   ],
   "source": [
    "square(5)"
   ]
  },
  {
   "cell_type": "code",
   "execution_count": 167,
   "id": "ce7c2e10",
   "metadata": {},
   "outputs": [
    {
     "name": "stdout",
     "output_type": "stream",
     "text": [
      "22\n"
     ]
    }
   ],
   "source": [
    "multiple_variable = lambda a, b, c: a ** 2 - 3 * b + 4 * c\n",
    "print(multiple_variable(5, 5, 3))"
   ]
  },
  {
   "cell_type": "markdown",
   "id": "fb42ba9e",
   "metadata": {},
   "source": [
    "# Higer order Functions:"
   ]
  },
  {
   "cell_type": "code",
   "execution_count": 168,
   "id": "1058eb90",
   "metadata": {},
   "outputs": [
    {
     "name": "stdout",
     "output_type": "stream",
     "text": [
      "9\n"
     ]
    }
   ],
   "source": [
    "def square (n):\n",
    "    return n * n\n",
    "def sec_func(f, x):\n",
    "    return f(x)\n",
    "print(sec_func(square, 3))"
   ]
  },
  {
   "cell_type": "code",
   "execution_count": 169,
   "id": "aade2ff0",
   "metadata": {},
   "outputs": [
    {
     "data": {
      "text/plain": [
       "[2, 4, 5, 6, 6]"
      ]
     },
     "execution_count": 169,
     "metadata": {},
     "output_type": "execute_result"
    }
   ],
   "source": [
    "def func(x):\n",
    "    return x\n",
    "def func2(y,lst5):\n",
    "    return y(lst5)\n",
    "res=func2(func,[2,4,5,6,6])\n",
    "res"
   ]
  },
  {
   "cell_type": "code",
   "execution_count": 170,
   "id": "8743e60c",
   "metadata": {},
   "outputs": [],
   "source": [
    "def sqrt(n):\n",
    "    for i in range(1, n+1):\n",
    "        if (n % i == 0) and (i * i == n):\n",
    "            return i\n",
    "def square(n):\n",
    "    return n*n\n",
    "def cube(n):\n",
    "    return n*n*n\n",
    "def choice(t):\n",
    "    if t=='sqrt':\n",
    "        return sqrt\n",
    "    elif t=='square':\n",
    "        return square\n",
    "    elif t=='cube':\n",
    "        return cube"
   ]
  },
  {
   "cell_type": "code",
   "execution_count": 171,
   "id": "73c293cf",
   "metadata": {},
   "outputs": [
    {
     "name": "stdout",
     "output_type": "stream",
     "text": [
      "2\n",
      "12\n"
     ]
    }
   ],
   "source": [
    "choice('sqrt')\n",
    "print(sqrt(4))\n",
    "print(sqrt(144))"
   ]
  },
  {
   "cell_type": "code",
   "execution_count": 172,
   "id": "1f4d6a10",
   "metadata": {},
   "outputs": [
    {
     "data": {
      "text/plain": [
       "<function __main__.cube(n)>"
      ]
     },
     "execution_count": 172,
     "metadata": {},
     "output_type": "execute_result"
    }
   ],
   "source": [
    "choice(\"cube\")"
   ]
  },
  {
   "cell_type": "code",
   "execution_count": 173,
   "id": "525ab93c",
   "metadata": {},
   "outputs": [
    {
     "data": {
      "text/plain": [
       "27"
      ]
     },
     "execution_count": 173,
     "metadata": {},
     "output_type": "execute_result"
    }
   ],
   "source": [
    "cube(3)"
   ]
  },
  {
   "cell_type": "markdown",
   "id": "09eead3a",
   "metadata": {},
   "source": [
    "# Python Date and time:"
   ]
  },
  {
   "cell_type": "code",
   "execution_count": 174,
   "id": "43c8cc8a",
   "metadata": {},
   "outputs": [],
   "source": [
    "from datetime import datetime"
   ]
  },
  {
   "cell_type": "code",
   "execution_count": 175,
   "id": "2b3e7db3",
   "metadata": {},
   "outputs": [],
   "source": [
    "crnt=datetime.now()"
   ]
  },
  {
   "cell_type": "code",
   "execution_count": 176,
   "id": "3a9f688d",
   "metadata": {},
   "outputs": [
    {
     "data": {
      "text/plain": [
       "26"
      ]
     },
     "execution_count": 176,
     "metadata": {},
     "output_type": "execute_result"
    }
   ],
   "source": [
    "day=crnt.day\n",
    "day"
   ]
  },
  {
   "cell_type": "code",
   "execution_count": 177,
   "id": "235b9ae5",
   "metadata": {},
   "outputs": [
    {
     "data": {
      "text/plain": [
       "2022"
      ]
     },
     "execution_count": 177,
     "metadata": {},
     "output_type": "execute_result"
    }
   ],
   "source": [
    "year=crnt.year\n",
    "year"
   ]
  },
  {
   "cell_type": "code",
   "execution_count": 178,
   "id": "5e6c9a72",
   "metadata": {},
   "outputs": [
    {
     "data": {
      "text/plain": [
       "11"
      ]
     },
     "execution_count": 178,
     "metadata": {},
     "output_type": "execute_result"
    }
   ],
   "source": [
    "hour=crnt.hour\n",
    "hour"
   ]
  },
  {
   "cell_type": "code",
   "execution_count": 179,
   "id": "b2882ce8",
   "metadata": {},
   "outputs": [
    {
     "data": {
      "text/plain": [
       "56"
      ]
     },
     "execution_count": 179,
     "metadata": {},
     "output_type": "execute_result"
    }
   ],
   "source": [
    "minute=crnt.minute\n",
    "minute"
   ]
  },
  {
   "cell_type": "code",
   "execution_count": 180,
   "id": "a43562c8",
   "metadata": {},
   "outputs": [
    {
     "data": {
      "text/plain": [
       "17"
      ]
     },
     "execution_count": 180,
     "metadata": {},
     "output_type": "execute_result"
    }
   ],
   "source": [
    "second=crnt.second\n",
    "second"
   ]
  },
  {
   "cell_type": "code",
   "execution_count": 181,
   "id": "cc1120a2",
   "metadata": {},
   "outputs": [
    {
     "data": {
      "text/plain": [
       "56"
      ]
     },
     "execution_count": 181,
     "metadata": {},
     "output_type": "execute_result"
    }
   ],
   "source": [
    "crnt.minute"
   ]
  },
  {
   "cell_type": "code",
   "execution_count": 182,
   "id": "294ca36d",
   "metadata": {},
   "outputs": [
    {
     "data": {
      "text/plain": [
       "<function datetime.timestamp>"
      ]
     },
     "execution_count": 182,
     "metadata": {},
     "output_type": "execute_result"
    }
   ],
   "source": [
    "crnt.timestamp"
   ]
  },
  {
   "cell_type": "code",
   "execution_count": 183,
   "id": "25d06fdf",
   "metadata": {},
   "outputs": [],
   "source": [
    "month=crnt.month"
   ]
  },
  {
   "cell_type": "code",
   "execution_count": 184,
   "id": "228bfa89",
   "metadata": {},
   "outputs": [
    {
     "name": "stdout",
     "output_type": "stream",
     "text": [
      "26/7/2022, 11:56\n"
     ]
    }
   ],
   "source": [
    "print(f'{day}/{month}/{year}, {hour}:{minute}')"
   ]
  },
  {
   "cell_type": "code",
   "execution_count": 185,
   "id": "15a9e8ff",
   "metadata": {},
   "outputs": [
    {
     "name": "stdout",
     "output_type": "stream",
     "text": [
      "time: 11:56:20\n"
     ]
    }
   ],
   "source": [
    "now = datetime.now()\n",
    "t = now.strftime(\"%H:%M:%S\")\n",
    "print(\"time:\", t)"
   ]
  },
  {
   "cell_type": "code",
   "execution_count": 186,
   "id": "50a7ea7e",
   "metadata": {},
   "outputs": [
    {
     "name": "stdout",
     "output_type": "stream",
     "text": [
      "time two: 26/07/2022, 11:56:20\n"
     ]
    }
   ],
   "source": [
    "time_two = now.strftime(\"%d/%m/%Y, %H:%M:%S\")\n",
    "print(\"time two:\", time_two)"
   ]
  },
  {
   "cell_type": "code",
   "execution_count": 187,
   "id": "8e4cb3aa",
   "metadata": {},
   "outputs": [
    {
     "data": {
      "text/plain": [
       "'11:56:20'"
      ]
     },
     "execution_count": 187,
     "metadata": {},
     "output_type": "execute_result"
    }
   ],
   "source": [
    "date=datetime.now()\n",
    "time=now.strftime('%X')\n",
    "time"
   ]
  },
  {
   "cell_type": "code",
   "execution_count": 188,
   "id": "e9dee581",
   "metadata": {},
   "outputs": [
    {
     "name": "stdout",
     "output_type": "stream",
     "text": [
      "date_string = 5 December, 2019\n",
      "date_object = 2019-12-05 00:00:00\n"
     ]
    }
   ],
   "source": [
    "date_string = \"5 December, 2019\"\n",
    "print(\"date_string =\", date_string)\n",
    "date_object = datetime.strptime(date_string, \"%d %B, %Y\")\n",
    "print(\"date_object =\", date_object)"
   ]
  },
  {
   "cell_type": "code",
   "execution_count": 189,
   "id": "3e57422b",
   "metadata": {},
   "outputs": [
    {
     "data": {
      "text/plain": [
       "datetime.datetime(2022, 7, 26, 11, 56, 21, 388741)"
      ]
     },
     "execution_count": 189,
     "metadata": {},
     "output_type": "execute_result"
    }
   ],
   "source": [
    "today = date.today()\n",
    "today"
   ]
  },
  {
   "cell_type": "code",
   "execution_count": 190,
   "id": "69cb6994",
   "metadata": {},
   "outputs": [
    {
     "data": {
      "text/plain": [
       "datetime.timedelta(days=7895)"
      ]
     },
     "execution_count": 190,
     "metadata": {},
     "output_type": "execute_result"
    }
   ],
   "source": [
    "t1 = datetime(year = 2000, month = 12, day = 11)\n",
    "t2 = datetime(year = 2022, month = 7, day = 24)\n",
    "diff = t2 - t1\n",
    "diff"
   ]
  },
  {
   "cell_type": "markdown",
   "id": "c9031383",
   "metadata": {},
   "source": [
    "# Exception Handling"
   ]
  },
  {
   "cell_type": "code",
   "execution_count": 191,
   "id": "de153da5",
   "metadata": {},
   "outputs": [
    {
     "name": "stdout",
     "output_type": "stream",
     "text": [
      "Your Name:\n",
      "year Born:\n",
      "Error\n"
     ]
    }
   ],
   "source": [
    "try:\n",
    "    name=input(\"Your Name:\")\n",
    "    year_born=input('year Born:')\n",
    "    age=2022-year_born\n",
    "    print(f'your name is{name}.and your age is{age}')\n",
    "except:\n",
    "    print('Error')"
   ]
  },
  {
   "cell_type": "code",
   "execution_count": 192,
   "id": "be25f917",
   "metadata": {},
   "outputs": [
    {
     "name": "stdout",
     "output_type": "stream",
     "text": [
      "Your Name:\n",
      "year Born:2000\n",
      "Type error occured\n"
     ]
    }
   ],
   "source": [
    "try:\n",
    "    name=input(\"Your Name:\")\n",
    "    year_born=input('year Born:')\n",
    "    age=2022-year_born\n",
    "    print(f'your name is{name}.and your age is{age}')\n",
    "except TypeError:\n",
    "    print('Type error occured')\n",
    "except ValueError:\n",
    "    print('Value error occured')\n",
    "except ZeroDivisionError:\n",
    "    print('zero division error occured')"
   ]
  },
  {
   "cell_type": "code",
   "execution_count": 193,
   "id": "a4c03dfd",
   "metadata": {},
   "outputs": [
    {
     "name": "stdout",
     "output_type": "stream",
     "text": [
      "Your Name:qasim\n",
      "year Born:2000\n",
      "your name is qasim And your age is 22\n"
     ]
    }
   ],
   "source": [
    "try:\n",
    "    name=input(\"Your Name:\")\n",
    "    year_born=int(input('year Born:'))\n",
    "    age=2022-year_born\n",
    "    print(f'your name is {name} And your age is {age}')\n",
    "except TypeError:\n",
    "    print('Type error occured')\n",
    "except ValueError:\n",
    "    print('Value error occured')\n",
    "except ZeroDivisionError:\n",
    "    print('zero division error occured')"
   ]
  },
  {
   "cell_type": "code",
   "execution_count": 195,
   "id": "4f3f8925",
   "metadata": {},
   "outputs": [
    {
     "name": "stdout",
     "output_type": "stream",
     "text": [
      "Your Name:qasim\n",
      "year Born:2000\n",
      "unsupported operand type(s) for -: 'int' and 'str'\n"
     ]
    }
   ],
   "source": [
    "# It is also shorten the above code \n",
    "try:\n",
    "    name=input(\"Your Name:\")\n",
    "    year_born=input('year Born:')\n",
    "    age=2022-year_born\n",
    "    print(f'your name is {name} And your age is {age}')\n",
    "except Exception as e:\n",
    "    print(e)"
   ]
  },
  {
   "cell_type": "markdown",
   "id": "65ceb2a2",
   "metadata": {},
   "source": [
    "## Unpacking:"
   ]
  },
  {
   "cell_type": "code",
   "execution_count": 196,
   "id": "7a72cf4d",
   "metadata": {},
   "outputs": [
    {
     "ename": "TypeError",
     "evalue": "sum() missing 4 required positional arguments: 'b', 'c', 'd', and 'e'",
     "output_type": "error",
     "traceback": [
      "\u001b[1;31m---------------------------------------------------------------------------\u001b[0m",
      "\u001b[1;31mTypeError\u001b[0m                                 Traceback (most recent call last)",
      "Input \u001b[1;32mIn [196]\u001b[0m, in \u001b[0;36m<cell line: 7>\u001b[1;34m()\u001b[0m\n\u001b[0;32m      5\u001b[0m     \u001b[38;5;28;01mreturn\u001b[39;00m a\u001b[38;5;241m+\u001b[39mb\u001b[38;5;241m+\u001b[39mc\u001b[38;5;241m+\u001b[39md\u001b[38;5;241m+\u001b[39me\n\u001b[0;32m      6\u001b[0m lst7\u001b[38;5;241m=\u001b[39m[\u001b[38;5;241m1\u001b[39m,\u001b[38;5;241m2\u001b[39m,\u001b[38;5;241m3\u001b[39m,\u001b[38;5;241m4\u001b[39m,\u001b[38;5;241m5\u001b[39m]\n\u001b[1;32m----> 7\u001b[0m \u001b[38;5;28mprint\u001b[39m(\u001b[38;5;28;43msum\u001b[39;49m\u001b[43m(\u001b[49m\u001b[43mlst7\u001b[49m\u001b[43m)\u001b[49m)\n",
      "\u001b[1;31mTypeError\u001b[0m: sum() missing 4 required positional arguments: 'b', 'c', 'd', and 'e'"
     ]
    }
   ],
   "source": [
    "#1:unpacking list:\n",
    "\n",
    "\n",
    "def sum(a,b,c,d,e):\n",
    "    return a+b+c+d+e\n",
    "lst7=[1,2,3,4,5]\n",
    "print(sum(lst7))"
   ]
  },
  {
   "cell_type": "code",
   "execution_count": 197,
   "id": "596fce44",
   "metadata": {},
   "outputs": [
    {
     "name": "stdout",
     "output_type": "stream",
     "text": [
      "15\n"
     ]
    }
   ],
   "source": [
    "# to resolve issue we will use '*' for list\n",
    "def sum(a,b,c,d,e):\n",
    "    return a+b+c+d+e\n",
    "lst7=[1,2,3,4,5]\n",
    "print(sum(*lst7))"
   ]
  },
  {
   "cell_type": "code",
   "execution_count": 1,
   "id": "36b08bca",
   "metadata": {},
   "outputs": [
    {
     "name": "stdout",
     "output_type": "stream",
     "text": [
      "Finland Sweden ['Norway', 'Denmark', 'Iceland']\n"
     ]
    }
   ],
   "source": [
    "countries = ['Finland', 'Sweden', 'Norway', 'Denmark', 'Iceland']\n",
    "fin,swe,*res=countries\n",
    "print(fin,swe,res)"
   ]
  },
  {
   "cell_type": "code",
   "execution_count": 199,
   "id": "da7767cb",
   "metadata": {},
   "outputs": [
    {
     "name": "stdout",
     "output_type": "stream",
     "text": [
      "1 [2, 3, 4, 5, 6] 7\n"
     ]
    }
   ],
   "source": [
    "numbers = [1, 2, 3, 4, 5, 6, 7]\n",
    "one, *middle, last = numbers\n",
    "print(one, middle, last)"
   ]
  },
  {
   "cell_type": "code",
   "execution_count": 200,
   "id": "0b4e3567",
   "metadata": {},
   "outputs": [],
   "source": [
    "#2:unpacking dictionaries (** is used)"
   ]
  },
  {
   "cell_type": "code",
   "execution_count": 201,
   "id": "54abebd6",
   "metadata": {},
   "outputs": [
    {
     "name": "stdout",
     "output_type": "stream",
     "text": [
      "Qasim and 22\n"
     ]
    }
   ],
   "source": [
    "def unpac_dic(name ,country ,age):\n",
    "    return f'{name} and {age}'\n",
    "dic5={'name':'Qasim','country':'Pakistan',\"age\":'22'}\n",
    "print(unpac_dic(**dic5))"
   ]
  },
  {
   "cell_type": "markdown",
   "id": "c9926d69",
   "metadata": {},
   "source": [
    "# Packing"
   ]
  },
  {
   "cell_type": "code",
   "execution_count": 202,
   "id": "68ca1abd",
   "metadata": {},
   "outputs": [
    {
     "name": "stdout",
     "output_type": "stream",
     "text": [
      "6\n"
     ]
    }
   ],
   "source": [
    "# Sometimes we never know how many arguments need to be passed to a python function. \n",
    "# We can use the packing method to allow our function to take unlimited number\n",
    "# or arbitrary number of arguments.\n",
    "#PACKING LIST\n",
    "def pack(*args):\n",
    "    sum=0\n",
    "    for i in args:\n",
    "        sum +=i\n",
    "    return sum\n",
    "print(pack(1,2,3))"
   ]
  },
  {
   "cell_type": "code",
   "execution_count": 203,
   "id": "d6295ee9",
   "metadata": {},
   "outputs": [
    {
     "name": "stdout",
     "output_type": "stream",
     "text": [
      "190\n"
     ]
    }
   ],
   "source": [
    "print(pack(4,5,6,78,8,89))"
   ]
  },
  {
   "cell_type": "code",
   "execution_count": 204,
   "id": "52812530",
   "metadata": {},
   "outputs": [],
   "source": [
    "#PACKING dICTIONARY"
   ]
  },
  {
   "cell_type": "code",
   "execution_count": 205,
   "id": "14b530c8",
   "metadata": {},
   "outputs": [
    {
     "name": "stdout",
     "output_type": "stream",
     "text": [
      "{'name': 'qasim', 'country': 'Pakistan', 'age': 22}\n"
     ]
    }
   ],
   "source": [
    "def packdic(**kargs):\n",
    "    for k in kargs:\n",
    "        return kargs\n",
    "print(packdic(name='qasim',country='Pakistan',age=22))"
   ]
  },
  {
   "cell_type": "code",
   "execution_count": 206,
   "id": "bfe7d421",
   "metadata": {},
   "outputs": [
    {
     "name": "stdout",
     "output_type": "stream",
     "text": [
      "[0, 1, 2, 3, 4, 5, 6, 7]\n"
     ]
    }
   ],
   "source": [
    "# Spreading\n",
    "lst_one = [1, 2, 3]\n",
    "lst_two = [4, 5, 6, 7]\n",
    "lst = [0, *lst_one, *lst_two]\n",
    "print(lst)  "
   ]
  },
  {
   "cell_type": "code",
   "execution_count": 207,
   "id": "8e51f5d8",
   "metadata": {},
   "outputs": [
    {
     "name": "stdout",
     "output_type": "stream",
     "text": [
      "0 20\n",
      "1 30\n",
      "2 40\n"
     ]
    }
   ],
   "source": [
    "# Enumerate\n",
    "for index, item in enumerate([20, 30, 40]):\n",
    "    print(index, item)"
   ]
  },
  {
   "cell_type": "code",
   "execution_count": 208,
   "id": "d386be43",
   "metadata": {},
   "outputs": [
    {
     "name": "stdout",
     "output_type": "stream",
     "text": [
      "The country Iceland has been found at index 4\n"
     ]
    }
   ],
   "source": [
    "countries = ['Finland', 'Sweden', 'Norway', 'Denmark', 'Iceland']\n",
    "for index, i in enumerate(countries):\n",
    "    if i == 'Iceland':\n",
    "        print(f'The country {i} has been found at index {index}')"
   ]
  },
  {
   "cell_type": "code",
   "execution_count": 209,
   "id": "105e45e8",
   "metadata": {},
   "outputs": [
    {
     "name": "stdout",
     "output_type": "stream",
     "text": [
      "[{'scl_frnd': 'haider', 'friend': 'wasi'}, {'scl_frnd': 'khawer', 'friend': 'baqir'}, {'scl_frnd': 'Raza', 'friend': 'hamza'}]\n"
     ]
    }
   ],
   "source": [
    "#Zip\n",
    "frnd1=['haider','khawer','Raza']\n",
    "frnd2=['wasi','baqir','hamza']\n",
    "frnd12=[]\n",
    "for f1,f2 in zip (frnd1,frnd2):\n",
    "    frnd12.append({'scl_frnd':f1,'friend':f2})\n",
    "print(frnd12)"
   ]
  },
  {
   "cell_type": "markdown",
   "id": "27f1e9b3",
   "metadata": {},
   "source": [
    "# Regular Expressions(Regex)"
   ]
  },
  {
   "cell_type": "code",
   "execution_count": 210,
   "id": "bb644805",
   "metadata": {},
   "outputs": [],
   "source": [
    "import re"
   ]
  },
  {
   "cell_type": "code",
   "execution_count": 211,
   "id": "def11212",
   "metadata": {},
   "outputs": [
    {
     "name": "stdout",
     "output_type": "stream",
     "text": [
      "<re.Match object; span=(0, 9), match='I love to'>\n"
     ]
    }
   ],
   "source": [
    "txt = 'I love to teach python and javaScript '\n",
    "match=re.match('I love to',txt,re.I)\n",
    "print(match)"
   ]
  },
  {
   "cell_type": "code",
   "execution_count": 212,
   "id": "cfa17248",
   "metadata": {},
   "outputs": [
    {
     "name": "stdout",
     "output_type": "stream",
     "text": [
      "0 9\n"
     ]
    }
   ],
   "source": [
    "start,end=match.span()\n",
    "print(start,end)"
   ]
  },
  {
   "cell_type": "code",
   "execution_count": 213,
   "id": "9fe0af73",
   "metadata": {},
   "outputs": [
    {
     "name": "stdout",
     "output_type": "stream",
     "text": [
      "I love to\n"
     ]
    }
   ],
   "source": [
    "print(txt[start:end])"
   ]
  },
  {
   "cell_type": "code",
   "execution_count": 214,
   "id": "17c4a45d",
   "metadata": {},
   "outputs": [
    {
     "name": "stdout",
     "output_type": "stream",
     "text": [
      "<re.Match object; span=(0, 9), match='I love to'>\n"
     ]
    }
   ],
   "source": [
    "txt = 'I love to teach python and javaScript'\n",
    "match=re.search('I love to',txt,re.I)\n",
    "print(match)"
   ]
  },
  {
   "cell_type": "code",
   "execution_count": 215,
   "id": "df3a5ffd",
   "metadata": {},
   "outputs": [
    {
     "name": "stdout",
     "output_type": "stream",
     "text": [
      "['python', 'python']\n"
     ]
    }
   ],
   "source": [
    "txt = 'I love to teach python and javaScript,because python is best language'\n",
    "match=re.findall('python',txt,re.I)\n",
    "print(match)"
   ]
  },
  {
   "cell_type": "code",
   "execution_count": 216,
   "id": "16f84ba8",
   "metadata": {},
   "outputs": [
    {
     "name": "stdout",
     "output_type": "stream",
     "text": [
      "['python', 'python']\n"
     ]
    }
   ],
   "source": [
    "txt = 'I love to teach python and javaScript,because python is best language'\n",
    "match=re.findall('Python|python',txt)\n",
    "print(match)"
   ]
  },
  {
   "cell_type": "code",
   "execution_count": 217,
   "id": "65b6fa77",
   "metadata": {},
   "outputs": [
    {
     "name": "stdout",
     "output_type": "stream",
     "text": [
      "I love to teach Java and javaScript,because Java is best language\n"
     ]
    }
   ],
   "source": [
    "# Replacing a Substring\n",
    "txt = 'I love to teach python and javaScript,because python is best language'\n",
    "match_replace=re.sub('Python|python','Java',txt)\n",
    "print(match_replace)"
   ]
  },
  {
   "cell_type": "code",
   "execution_count": 218,
   "id": "c2abc83e",
   "metadata": {},
   "outputs": [
    {
     "name": "stdout",
     "output_type": "stream",
     "text": [
      "I am teacher and  I love teaching. \n",
      "There is nothing as rewarding as educating and empowering people.\n",
      "I found teaching more interesting than any other jobs. \n",
      "Does this motivate you to be a teacher?\n"
     ]
    }
   ],
   "source": [
    "txt = '''%I a%m te%%a%%che%r% a%n%d %% I l%o%ve te%ach%ing. \n",
    "T%he%re i%s n%o%th%ing as r%ewarding a%s e%duc%at%i%ng a%n%d e%m%p%ow%er%ing p%e%o%ple.\n",
    "I fo%und te%a%ching m%ore i%n%t%er%%es%ting t%h%an any other %jobs. \n",
    "D%o%es thi%s m%ot%iv%a%te %y%o%u to b%e a t%e%a%cher?'''\n",
    "\n",
    "matches = re.sub('%', '', txt)\n",
    "print(matches)"
   ]
  },
  {
   "cell_type": "code",
   "execution_count": 219,
   "id": "c568acc8",
   "metadata": {},
   "outputs": [
    {
     "name": "stdout",
     "output_type": "stream",
     "text": [
      "['I love to teach ', ' and javaScript,because ', ' is best language']\n"
     ]
    }
   ],
   "source": [
    "#spliting\n",
    "txt = 'I love to teach python and javaScript,because python is best language'\n",
    "match_split=re.split('Python|python',txt)\n",
    "print(match_split)"
   ]
  },
  {
   "cell_type": "code",
   "execution_count": 220,
   "id": "3e79e602",
   "metadata": {},
   "outputs": [
    {
     "name": "stdout",
     "output_type": "stream",
     "text": [
      "['python', 'python']\n"
     ]
    }
   ],
   "source": [
    "regex_pattern=r'python'\n",
    "txt = 'I love to teach python and javaScript,because python is best language'\n",
    "matches = re.findall(regex_pattern, txt)\n",
    "print(matches)"
   ]
  },
  {
   "cell_type": "code",
   "execution_count": null,
   "id": "50d0795b",
   "metadata": {},
   "outputs": [],
   "source": []
  },
  {
   "cell_type": "code",
   "execution_count": 221,
   "id": "0de242dc",
   "metadata": {},
   "outputs": [],
   "source": [
    "#  Metacharacters ([],\\,.,.:,{},^,$,)etc"
   ]
  },
  {
   "cell_type": "code",
   "execution_count": 222,
   "id": "ed123327",
   "metadata": {},
   "outputs": [
    {
     "name": "stdout",
     "output_type": "stream",
     "text": [
      "['python', 'python']\n"
     ]
    }
   ],
   "source": [
    "txt = 'I love to teach python and javaScript,because python is best language'\n",
    "match=re.findall('[Pp]ython',txt)\n",
    "print(match)"
   ]
  },
  {
   "cell_type": "code",
   "execution_count": 223,
   "id": "63b77932",
   "metadata": {},
   "outputs": [
    {
     "name": "stdout",
     "output_type": "stream",
     "text": [
      "['python', 'python']\n"
     ]
    }
   ],
   "source": [
    "txt = 'I love to teach python and javaScript,because python is best language'\n",
    "match=re.findall('[Pp]ython',txt)\n",
    "print(match)"
   ]
  },
  {
   "cell_type": "code",
   "execution_count": 224,
   "id": "ea11f839",
   "metadata": {},
   "outputs": [
    {
     "name": "stdout",
     "output_type": "stream",
     "text": [
      "['1']\n"
     ]
    }
   ],
   "source": [
    "patt=r'\\d'\n",
    "txt = 'I love to teach python and javaScript,because python  is 1 of best language'\n",
    "match=re.findall(patt,txt)\n",
    "print(match)"
   ]
  },
  {
   "cell_type": "code",
   "execution_count": 225,
   "id": "2cf1a93d",
   "metadata": {},
   "outputs": [
    {
     "name": "stdout",
     "output_type": "stream",
     "text": [
      "['1', '6', '2', '0', '1', '9', '8', '2', '0', '2', '1']\n"
     ]
    }
   ],
   "source": [
    "patt=r'\\d'\n",
    "txt = 'I love to teach python and javaScript,because python  is 1 of best language,December 6,  2019 and revised on July 8, 2021'\n",
    "match=re.findall(patt,txt)\n",
    "print(match)"
   ]
  },
  {
   "cell_type": "code",
   "execution_count": 226,
   "id": "cc2c3f3c",
   "metadata": {},
   "outputs": [
    {
     "name": "stdout",
     "output_type": "stream",
     "text": [
      "['1', '6', '2019', '8', '2021']\n"
     ]
    }
   ],
   "source": [
    "# to make it better\n",
    "patt=r'\\d+'\n",
    "txt = '''I love to teach python and javaScript,because python  is 1 of best language,\n",
    "December 6,  2019 and revised on July 8, 2021'''\n",
    "match=re.findall(patt,txt)\n",
    "print(match)"
   ]
  },
  {
   "cell_type": "code",
   "execution_count": 227,
   "id": "ae93f526",
   "metadata": {},
   "outputs": [
    {
     "name": "stdout",
     "output_type": "stream",
     "text": [
      "['ac', 'an', 'av', 'aS', 'au', 'an', 'ag', 'an']\n"
     ]
    }
   ],
   "source": [
    "patt=r'[a].'\n",
    "txt = '''I love to teach python and javaScript,because python  is 1 of best language,\n",
    "December 6,  2019 and revised on July 8, 2021'''\n",
    "match=re.findall(patt,txt)\n",
    "print(match)"
   ]
  },
  {
   "cell_type": "code",
   "execution_count": 228,
   "id": "09248e71",
   "metadata": {},
   "outputs": [
    {
     "name": "stdout",
     "output_type": "stream",
     "text": [
      "['ach python and javaScript,because python  is 1 of best language,', 'and revised on July 8, 2021']\n"
     ]
    }
   ],
   "source": [
    "patt=r'[a].+'\n",
    "txt = '''I love to teach python and javaScript,because python  is 1 of best language,\n",
    "December 6,  2019 and revised on July 8, 2021'''\n",
    "match=re.findall(patt,txt)\n",
    "print(match)"
   ]
  },
  {
   "cell_type": "code",
   "execution_count": 229,
   "id": "523f84a3",
   "metadata": {},
   "outputs": [
    {
     "name": "stdout",
     "output_type": "stream",
     "text": [
      "['ach python and javaScript,because python  is 1 of best language,', 'and revised on July 8, 2021']\n"
     ]
    }
   ],
   "source": [
    "patt=r'[a].*'\n",
    "txt = '''I love to teach python and javaScript,because python  is 1 of best language,\n",
    "December 6,  2019 and revised on July 8, 2021'''\n",
    "match=re.findall(patt,txt)\n",
    "print(match)"
   ]
  },
  {
   "cell_type": "code",
   "execution_count": 230,
   "id": "a3c1400b",
   "metadata": {},
   "outputs": [
    {
     "name": "stdout",
     "output_type": "stream",
     "text": [
      "['2019', '2021']\n"
     ]
    }
   ],
   "source": [
    "patt=r'\\d{4}'\n",
    "txt = '''I love to teach python and javaScript,because python  is 1 of best language,\n",
    "December 6,  2019 and revised on July 8, 2021'''\n",
    "match=re.findall(patt,txt)\n",
    "print(match)"
   ]
  },
  {
   "cell_type": "code",
   "execution_count": 231,
   "id": "6175c614",
   "metadata": {},
   "outputs": [
    {
     "name": "stdout",
     "output_type": "stream",
     "text": [
      "['I']\n"
     ]
    }
   ],
   "source": [
    "patt=r'^I'\n",
    "txt = '''I love to teach python and javaScript,because python  is 1 of best language,\n",
    "December 6,  2019 and revised on July 8, 2021'''\n",
    "match=re.findall(patt,txt)\n",
    "print(match)"
   ]
  },
  {
   "cell_type": "code",
   "execution_count": 232,
   "id": "c657341e",
   "metadata": {},
   "outputs": [
    {
     "name": "stdout",
     "output_type": "stream",
     "text": [
      "[' love to teach python and javaScript,because python  is 1 of best language,\\nDecember 6,  2019 and revised on July 8, 2021']\n"
     ]
    }
   ],
   "source": [
    "patt=r'[^I]+'\n",
    "txt = '''I love to teach python and javaScript,because python  is 1 of best language,\n",
    "December 6,  2019 and revised on July 8, 2021'''\n",
    "match=re.findall(patt,txt)\n",
    "print(match)"
   ]
  },
  {
   "cell_type": "code",
   "execution_count": 233,
   "id": "c784b942",
   "metadata": {},
   "outputs": [
    {
     "name": "stdout",
     "output_type": "stream",
     "text": [
      "[',', '1', ',\\n', '6,', '2019', '8,', '2021']\n"
     ]
    }
   ],
   "source": [
    "patt=r'[^A-Za-z ]+'\n",
    "txt = '''I love to teach python and javaScript,because python  is 1 of best language,\n",
    "December 6,  2019 and revised on July 8, 2021'''\n",
    "match=re.findall(patt,txt)\n",
    "print(match)"
   ]
  },
  {
   "cell_type": "code",
   "execution_count": 234,
   "id": "58ada308",
   "metadata": {
    "scrolled": true
   },
   "outputs": [
    {
     "name": "stdout",
     "output_type": "stream",
     "text": [
      "['ac', 'an', 'av', 'aS', 'au', 'an', 'ag', 'an']\n"
     ]
    }
   ],
   "source": [
    "patt=r'[a].?'\n",
    "txt = '''I love to teach python and javaScript,because python  is 1 of best language,\n",
    "December 6,  2019 and revised on July 8, 2021'''\n",
    "match=re.findall(patt,txt)\n",
    "print(match)"
   ]
  },
  {
   "cell_type": "markdown",
   "id": "cd772362",
   "metadata": {},
   "source": [
    "# String Formating"
   ]
  },
  {
   "cell_type": "code",
   "execution_count": 235,
   "id": "6358a7d7",
   "metadata": {},
   "outputs": [
    {
     "name": "stdout",
     "output_type": "stream",
     "text": [
      "this pen is of 45\n"
     ]
    }
   ],
   "source": [
    "price=45\n",
    "mystring='this pen is of {}'\n",
    "print(mystring.format(price))"
   ]
  },
  {
   "cell_type": "code",
   "execution_count": 236,
   "id": "f0916f5e",
   "metadata": {},
   "outputs": [
    {
     "name": "stdout",
     "output_type": "stream",
     "text": [
      "this pen is of 23.01\n"
     ]
    }
   ],
   "source": [
    "#to set floating point value\n",
    "price2=23.00888\n",
    "mystring2='this pen is of {:.2f}'\n",
    "print(mystring2.format(price2))"
   ]
  },
  {
   "cell_type": "code",
   "execution_count": 237,
   "id": "d8083b20",
   "metadata": {},
   "outputs": [
    {
     "name": "stdout",
     "output_type": "stream",
     "text": [
      "His name is qasim. qasim is 22 years old.\n"
     ]
    }
   ],
   "source": [
    "age = 22\n",
    "name = \"qasim\"\n",
    "txt = \"His name is {1}. {1} is {0} years old.\"\n",
    "print(txt.format(age, name))"
   ]
  },
  {
   "cell_type": "markdown",
   "id": "858fefc7",
   "metadata": {},
   "source": [
    "# File Handling"
   ]
  },
  {
   "cell_type": "code",
   "execution_count": 238,
   "id": "4ce27850",
   "metadata": {},
   "outputs": [
    {
     "name": "stdout",
     "output_type": "stream",
     "text": [
      "Program 1:\n",
      "Input fruits = [\"Apple\",\"Apple\",\"Orange\",\"Strawberry\",\"Strawberry\",\"Banana\",\"Apple\"]\n",
      "Output: [{\"Apple\":2},{\"Orange\":1},{\"Strawberry\":2},{\"Banana\":1},{\"Apple\":1}]\n",
      "\n",
      "Program2: \n",
      "data = [\n",
      "[1,2,3],\n",
      "[1,2,3],\n",
      "[1,2,3],\n",
      "]\n",
      "\n",
      "Output = [\n",
      "[1,1,1],\n",
      "[2,2,2],\n",
      "[3,3,3]\n",
      "]\n",
      "\n",
      "tranponse\n",
      "This text has to be appended at the end\n",
      "This text has to be appended at the end\n",
      "program 2 is doneprogram 2 is doneprogram 2 is done\n",
      "\n",
      "browser opening model\n",
      "\n"
     ]
    }
   ],
   "source": [
    "f=open('C:/Users/HP/Desktop/jij.txt')\n",
    "text=f.read()\n",
    "print(text)\n",
    "f.close()"
   ]
  },
  {
   "cell_type": "code",
   "execution_count": 15,
   "id": "b2fe44ee",
   "metadata": {},
   "outputs": [],
   "source": []
  },
  {
   "cell_type": "code",
   "execution_count": 239,
   "id": "7a4de712",
   "metadata": {},
   "outputs": [
    {
     "name": "stdout",
     "output_type": "stream",
     "text": [
      "['Program 1:\\n', 'Input fruits = [\"Apple\",\"Apple\",\"Orange\",\"Strawberry\",\"Strawberry\",\"Banana\",\"Apple\"]\\n', 'Output: [{\"Apple\":2},{\"Orange\":1},{\"Strawberry\":2},{\"Banana\":1},{\"Apple\":1}]\\n', '\\n', 'Program2: \\n', 'data = [\\n', '[1,2,3],\\n', '[1,2,3],\\n', '[1,2,3],\\n', ']\\n', '\\n', 'Output = [\\n', '[1,1,1],\\n', '[2,2,2],\\n', '[3,3,3]\\n', ']\\n', '\\n', 'tranponse\\n', 'This text has to be appended at the end\\n', 'This text has to be appended at the end\\n', 'program 2 is doneprogram 2 is doneprogram 2 is done\\n', '\\n', 'browser opening model\\n']\n",
      "<class 'list'>\n"
     ]
    }
   ],
   "source": [
    "f=open('C:/Users/HP/Desktop/jij.txt')\n",
    "text=f.readlines()\n",
    "print(text)\n",
    "print(type(text))\n",
    "f.close()"
   ]
  },
  {
   "cell_type": "code",
   "execution_count": 240,
   "id": "92591cf6",
   "metadata": {},
   "outputs": [
    {
     "data": {
      "text/plain": [
       "['Program 1:',\n",
       " 'Input fruits = [\"Apple\",\"Apple\",\"Orange\",\"Strawberry\",\"Strawberry\",\"Banana\",\"Apple\"]',\n",
       " 'Output: [{\"Apple\":2},{\"Orange\":1},{\"Strawberry\":2},{\"Banana\":1},{\"Apple\":1}]',\n",
       " '',\n",
       " 'Program2: ',\n",
       " 'data = [',\n",
       " '[1,2,3],',\n",
       " '[1,2,3],',\n",
       " '[1,2,3],',\n",
       " ']',\n",
       " '',\n",
       " 'Output = [',\n",
       " '[1,1,1],',\n",
       " '[2,2,2],',\n",
       " '[3,3,3]',\n",
       " ']',\n",
       " '',\n",
       " 'tranponse',\n",
       " 'This text has to be appended at the end',\n",
       " 'This text has to be appended at the end',\n",
       " 'program 2 is doneprogram 2 is doneprogram 2 is done',\n",
       " '',\n",
       " 'browser opening model']"
      ]
     },
     "execution_count": 240,
     "metadata": {},
     "output_type": "execute_result"
    }
   ],
   "source": [
    "f=open('C:/Users/HP/Desktop/jij.txt')\n",
    "text2=f.read().splitlines()\n",
    "text2"
   ]
  },
  {
   "cell_type": "code",
   "execution_count": 241,
   "id": "06af5bd8",
   "metadata": {},
   "outputs": [
    {
     "name": "stdout",
     "output_type": "stream",
     "text": [
      "Program 1:\n",
      "Input fruits = [\"Apple\",\"Apple\",\"Orange\",\"Strawberry\",\"Strawberry\",\"Banana\",\"Apple\"]\n",
      "Output: [{\"Apple\":2},{\"Orange\":1},{\"Strawberry\":2},{\"Banana\":1},{\"Apple\":1}]\n",
      "\n",
      "Program2: \n",
      "data = [\n",
      "[1,2,3],\n",
      "[1,2,3],\n",
      "[1,2,3],\n",
      "]\n",
      "\n",
      "Output = [\n",
      "[1,1,1],\n",
      "[2,2,2],\n",
      "[3,3,3]\n",
      "]\n",
      "\n",
      "tranponse\n",
      "This text has to be appended at the end\n",
      "This text has to be appended at the end\n",
      "program 2 is doneprogram 2 is doneprogram 2 is done\n",
      "\n",
      "browser opening model\n",
      "\n"
     ]
    }
   ],
   "source": [
    "# to open and close by itself\n",
    "with open('C:/Users/HP/Desktop/jij.txt') as f:\n",
    "    print(f.read())\n",
    "    "
   ]
  },
  {
   "cell_type": "code",
   "execution_count": 242,
   "id": "758354df",
   "metadata": {},
   "outputs": [
    {
     "name": "stdout",
     "output_type": "stream",
     "text": [
      "17\n"
     ]
    }
   ],
   "source": [
    "# Append\n",
    "with open('C:/Users/HP/Desktop/jij.txt',\"a\") as f:\n",
    "    txt3=f.write('program 2 is done')\n",
    "    print(txt3)"
   ]
  },
  {
   "cell_type": "code",
   "execution_count": 243,
   "id": "41778274",
   "metadata": {},
   "outputs": [
    {
     "name": "stdout",
     "output_type": "stream",
     "text": [
      "75\n"
     ]
    }
   ],
   "source": [
    "with open('C:/Users/HP/Desktop/qasim.txt',\"w\") as f:\n",
    "    txt3=f.write('program 2 is done.first program is also done although have some limitations')\n",
    "    print(txt3)"
   ]
  },
  {
   "cell_type": "code",
   "execution_count": 244,
   "id": "807b0df5",
   "metadata": {},
   "outputs": [],
   "source": [
    "import os\n",
    "os.remove('C:/Users/HP/Desktop/qasim.txt')"
   ]
  },
  {
   "cell_type": "code",
   "execution_count": 245,
   "id": "0d1a545b",
   "metadata": {},
   "outputs": [
    {
     "name": "stdout",
     "output_type": "stream",
     "text": [
      "file not exist\n"
     ]
    }
   ],
   "source": [
    "# If the file does not exist, the remove method will raise an error, so it is good to use a condition like this:\n",
    "if os.path.exists('C:/Users/HP/Desktop/qasim.txt'):\n",
    "    os.remove('C:/Users/HP/Desktop/qasim.txt')\n",
    "else:\n",
    "    print('file not exist')"
   ]
  },
  {
   "cell_type": "markdown",
   "id": "25df0798",
   "metadata": {},
   "source": [
    "# Python JSON"
   ]
  },
  {
   "cell_type": "code",
   "execution_count": 246,
   "id": "d63666b5",
   "metadata": {},
   "outputs": [],
   "source": [
    "import json"
   ]
  },
  {
   "cell_type": "code",
   "execution_count": 247,
   "id": "5e466969",
   "metadata": {},
   "outputs": [
    {
     "name": "stdout",
     "output_type": "stream",
     "text": [
      "<class 'dict'>\n"
     ]
    },
    {
     "data": {
      "text/plain": [
       "{'name': 'Asabeneh',\n",
       " 'country': 'Finland',\n",
       " 'city': 'Helsinki',\n",
       " 'skills': ['JavaScrip', 'React', 'Python']}"
      ]
     },
     "execution_count": 247,
     "metadata": {},
     "output_type": "execute_result"
    }
   ],
   "source": [
    "#jason to dictionary\n",
    "myjson='''{\n",
    "    \"name\": \"Asabeneh\",\n",
    "    \"country\": \"Finland\",\n",
    "    \"city\": \"Helsinki\",\n",
    "    \"skills\": [\"JavaScrip\", \"React\", \"Python\"]\n",
    "}'''\n",
    "mydict=json.loads(myjson)\n",
    "print(type(mydict))\n",
    "mydict"
   ]
  },
  {
   "cell_type": "code",
   "execution_count": 248,
   "id": "f4e377a4",
   "metadata": {},
   "outputs": [
    {
     "name": "stdout",
     "output_type": "stream",
     "text": [
      "<class 'str'>\n",
      "{\"name\": \"Asabeneh\", \"country\": \"Finland\", \"city\": \"Helsinki\", \"skills\": [\"JavaScrip\", \"React\", \"Python\"]}\n"
     ]
    }
   ],
   "source": [
    "#dictionary to json\n",
    "mydict2={\n",
    "    \"name\": \"Asabeneh\",\n",
    "    \"country\": \"Finland\",\n",
    "    \"city\": \"Helsinki\",\n",
    "    \"skills\": [\"JavaScrip\", \"React\", \"Python\"]\n",
    "}\n",
    "myjson2=json.dumps(mydict2)\n",
    "print(type(myjson2))\n",
    "print(myjson2)"
   ]
  },
  {
   "cell_type": "code",
   "execution_count": 249,
   "id": "8c45de8a",
   "metadata": {},
   "outputs": [
    {
     "name": "stdout",
     "output_type": "stream",
     "text": [
      "<class 'str'>\n",
      "{\n",
      "    \"name\": \"Asabeneh\",\n",
      "    \"country\": \"Finland\",\n",
      "    \"city\": \"Helsinki\",\n",
      "    \"skills\": [\n",
      "        \"JavaScrip\",\n",
      "        \"React\",\n",
      "        \"Python\"\n",
      "    ]\n",
      "}\n"
     ]
    }
   ],
   "source": [
    "# use indent to make it clear\n",
    "mydict2={\n",
    "    \"name\": \"Asabeneh\",\n",
    "    \"country\": \"Finland\",\n",
    "    \"city\": \"Helsinki\",\n",
    "    \"skills\": [\"JavaScrip\", \"React\", \"Python\"]\n",
    "}\n",
    "myjson2=json.dumps(mydict2,indent=4)\n",
    "print(type(myjson2))\n",
    "print(myjson2)"
   ]
  },
  {
   "cell_type": "code",
   "execution_count": 250,
   "id": "114ae08e",
   "metadata": {},
   "outputs": [],
   "source": [
    "mydict3={\n",
    "    \"name\": \"Asabeneh\",\n",
    "    \"country\": \"Finland\",\n",
    "    \"city\": \"Helsinki\",\n",
    "    \"skills\": [\"JavaScrip\", \"React\", \"Python\"]\n",
    "}\n",
    "with open('C:/Users/HP/Desktop/qasim.json','w',encoding='utf-8') as f:\n",
    "    json.dumps(mydict3, ensure_ascii=False, indent=4)"
   ]
  },
  {
   "cell_type": "code",
   "execution_count": null,
   "id": "f024b8a1",
   "metadata": {},
   "outputs": [],
   "source": []
  },
  {
   "cell_type": "code",
   "execution_count": 251,
   "id": "c9aaeefe",
   "metadata": {},
   "outputs": [
    {
     "name": "stdout",
     "output_type": "stream",
     "text": [
      "<_csv.reader object at 0x00000148FD18D280>\n"
     ]
    }
   ],
   "source": [
    "#CSV\n",
    "import csv\n",
    "with open('C:/Users/HP/Desktop/Pandas/new.csv') as f:\n",
    "    read=csv.reader(f)\n",
    "    print(read)"
   ]
  },
  {
   "cell_type": "code",
   "execution_count": 252,
   "id": "9c49b21b",
   "metadata": {},
   "outputs": [
    {
     "name": "stdout",
     "output_type": "stream",
     "text": [
      "['0', 'Qasim', '29', '550', '91.66666667']\n",
      "['1', 'Haider', '55', '542', '90.33333333']\n",
      "['2', 'Khawer', '33', '567', '94.5']\n",
      "['3', 'Hammad ', '77', '533', '88.83333333']\n",
      "['4', 'Ahamed', '21', '555', '92.5']\n"
     ]
    }
   ],
   "source": [
    "import csv\n",
    "with open('C:/Users/HP/Desktop/Pandas/new.csv') as f:\n",
    "    read=csv.reader(f)\n",
    "    for row in read:\n",
    "        print(row)"
   ]
  },
  {
   "cell_type": "code",
   "execution_count": 253,
   "id": "67fe78ae",
   "metadata": {
    "scrolled": true
   },
   "outputs": [
    {
     "ename": "FileNotFoundError",
     "evalue": "[Errno 2] No such file or directory: 'C:/Users/HP/Desktop/Pandas/Excelfile.xls'",
     "output_type": "error",
     "traceback": [
      "\u001b[1;31m---------------------------------------------------------------------------\u001b[0m",
      "\u001b[1;31mFileNotFoundError\u001b[0m                         Traceback (most recent call last)",
      "Input \u001b[1;32mIn [253]\u001b[0m, in \u001b[0;36m<cell line: 2>\u001b[1;34m()\u001b[0m\n\u001b[0;32m      1\u001b[0m \u001b[38;5;28;01mimport\u001b[39;00m \u001b[38;5;21;01mxlrd\u001b[39;00m\n\u001b[1;32m----> 2\u001b[0m read\u001b[38;5;241m=\u001b[39m\u001b[43mxlrd\u001b[49m\u001b[38;5;241;43m.\u001b[39;49m\u001b[43mopen_workbook\u001b[49m\u001b[43m(\u001b[49m\u001b[38;5;124;43m'\u001b[39;49m\u001b[38;5;124;43mC:/Users/HP/Desktop/Pandas/Excelfile.xls\u001b[39;49m\u001b[38;5;124;43m'\u001b[39;49m\u001b[43m)\u001b[49m\n",
      "File \u001b[1;32mc:\\users\\hp\\appdata\\local\\programs\\python\\python39\\lib\\site-packages\\xlrd\\__init__.py:166\u001b[0m, in \u001b[0;36mopen_workbook\u001b[1;34m(filename, logfile, verbosity, use_mmap, file_contents, encoding_override, formatting_info, on_demand, ragged_rows, ignore_workbook_corruption)\u001b[0m\n\u001b[0;32m     84\u001b[0m \u001b[38;5;28;01mdef\u001b[39;00m \u001b[38;5;21mopen_workbook\u001b[39m(filename\u001b[38;5;241m=\u001b[39m\u001b[38;5;28;01mNone\u001b[39;00m,\n\u001b[0;32m     85\u001b[0m                   logfile\u001b[38;5;241m=\u001b[39msys\u001b[38;5;241m.\u001b[39mstdout,\n\u001b[0;32m     86\u001b[0m                   verbosity\u001b[38;5;241m=\u001b[39m\u001b[38;5;241m0\u001b[39m,\n\u001b[1;32m   (...)\u001b[0m\n\u001b[0;32m     93\u001b[0m                   ignore_workbook_corruption\u001b[38;5;241m=\u001b[39m\u001b[38;5;28;01mFalse\u001b[39;00m\n\u001b[0;32m     94\u001b[0m                   ):\n\u001b[0;32m     95\u001b[0m     \u001b[38;5;124;03m\"\"\"\u001b[39;00m\n\u001b[0;32m     96\u001b[0m \u001b[38;5;124;03m    Open a spreadsheet file for data extraction.\u001b[39;00m\n\u001b[0;32m     97\u001b[0m \n\u001b[1;32m   (...)\u001b[0m\n\u001b[0;32m    163\u001b[0m \u001b[38;5;124;03m    :returns: An instance of the :class:`~xlrd.book.Book` class.\u001b[39;00m\n\u001b[0;32m    164\u001b[0m \u001b[38;5;124;03m    \"\"\"\u001b[39;00m\n\u001b[1;32m--> 166\u001b[0m     file_format \u001b[38;5;241m=\u001b[39m \u001b[43minspect_format\u001b[49m\u001b[43m(\u001b[49m\u001b[43mfilename\u001b[49m\u001b[43m,\u001b[49m\u001b[43m \u001b[49m\u001b[43mfile_contents\u001b[49m\u001b[43m)\u001b[49m\n\u001b[0;32m    167\u001b[0m     \u001b[38;5;66;03m# We have to let unknown file formats pass through here, as some ancient\u001b[39;00m\n\u001b[0;32m    168\u001b[0m     \u001b[38;5;66;03m# files that xlrd can parse don't start with the expected signature.\u001b[39;00m\n\u001b[0;32m    169\u001b[0m     \u001b[38;5;28;01mif\u001b[39;00m file_format \u001b[38;5;129;01mand\u001b[39;00m file_format \u001b[38;5;241m!=\u001b[39m \u001b[38;5;124m'\u001b[39m\u001b[38;5;124mxls\u001b[39m\u001b[38;5;124m'\u001b[39m:\n",
      "File \u001b[1;32mc:\\users\\hp\\appdata\\local\\programs\\python\\python39\\lib\\site-packages\\xlrd\\__init__.py:60\u001b[0m, in \u001b[0;36minspect_format\u001b[1;34m(path, content)\u001b[0m\n\u001b[0;32m     58\u001b[0m \u001b[38;5;28;01melse\u001b[39;00m:\n\u001b[0;32m     59\u001b[0m     path \u001b[38;5;241m=\u001b[39m os\u001b[38;5;241m.\u001b[39mpath\u001b[38;5;241m.\u001b[39mexpanduser(path)\n\u001b[1;32m---> 60\u001b[0m     \u001b[38;5;28;01mwith\u001b[39;00m \u001b[38;5;28;43mopen\u001b[39;49m\u001b[43m(\u001b[49m\u001b[43mpath\u001b[49m\u001b[43m,\u001b[49m\u001b[43m \u001b[49m\u001b[38;5;124;43m\"\u001b[39;49m\u001b[38;5;124;43mrb\u001b[39;49m\u001b[38;5;124;43m\"\u001b[39;49m\u001b[43m)\u001b[49m \u001b[38;5;28;01mas\u001b[39;00m f:\n\u001b[0;32m     61\u001b[0m         peek \u001b[38;5;241m=\u001b[39m f\u001b[38;5;241m.\u001b[39mread(PEEK_SIZE)\n\u001b[0;32m     63\u001b[0m \u001b[38;5;28;01mif\u001b[39;00m peek\u001b[38;5;241m.\u001b[39mstartswith(XLS_SIGNATURE):\n",
      "\u001b[1;31mFileNotFoundError\u001b[0m: [Errno 2] No such file or directory: 'C:/Users/HP/Desktop/Pandas/Excelfile.xls'"
     ]
    }
   ],
   "source": [
    "import xlrd\n",
    "read=xlrd.open_workbook('C:/Users/HP/Desktop/Pandas/Excelfile.xls')\n"
   ]
  },
  {
   "cell_type": "code",
   "execution_count": 1,
   "id": "f088483f",
   "metadata": {},
   "outputs": [],
   "source": [
    "import webbrowser"
   ]
  },
  {
   "cell_type": "code",
   "execution_count": 2,
   "id": "d0ca6431",
   "metadata": {},
   "outputs": [],
   "source": [
    "url_lists = [\n",
    "    'http://www.python.org',\n",
    "    'https://www.linkedin.com',\n",
    "    'https://github.com',\n",
    "    'https://twitter.com',\n",
    "    'https://twitter.com'\n",
    "]\n",
    "\n",
    "# opens the above list of websites in a different tab\n",
    "for url in url_lists:\n",
    "    webbrowser.open_new(url)\n"
   ]
  },
  {
   "cell_type": "code",
   "execution_count": null,
   "id": "97086d0f",
   "metadata": {},
   "outputs": [],
   "source": []
  },
  {
   "cell_type": "markdown",
   "id": "52334950",
   "metadata": {},
   "source": [
    "# Python object oriented progamming"
   ]
  },
  {
   "cell_type": "markdown",
   "id": "93a6b9d1",
   "metadata": {},
   "source": [
    "#### classes and objects:"
   ]
  },
  {
   "cell_type": "code",
   "execution_count": 256,
   "id": "5d87aacd",
   "metadata": {},
   "outputs": [
    {
     "name": "stdout",
     "output_type": "stream",
     "text": [
      "5\n"
     ]
    }
   ],
   "source": [
    "\n",
    "class myclass:\n",
    "    x=5\n",
    "obj=myclass()\n",
    "print(obj.x)"
   ]
  },
  {
   "cell_type": "code",
   "execution_count": 264,
   "id": "e67294e4",
   "metadata": {},
   "outputs": [
    {
     "name": "stdout",
     "output_type": "stream",
     "text": [
      "qasim\n",
      "22\n"
     ]
    }
   ],
   "source": [
    "#The __init__() Function(constructor)\n",
    "class person:\n",
    " def __init__(data, name, age):\n",
    "        data.name=name\n",
    "        data.age=age\n",
    "obj1=person('qasim',22)\n",
    "print(obj1.name)\n",
    "print(obj1.age)"
   ]
  },
  {
   "cell_type": "code",
   "execution_count": 3,
   "id": "ecd6d718",
   "metadata": {},
   "outputs": [
    {
     "name": "stdout",
     "output_type": "stream",
     "text": [
      "Employee created.\n",
      "Destructor called, Employee deleted.\n"
     ]
    }
   ],
   "source": [
    "# Python  destructor\n",
    "class Employee:\n",
    "# Initializing\n",
    "    def __init__(self):\n",
    "        print('Employee created.')\n",
    "   # Deleting (Calling destructor)\n",
    "    def __del__(self):\n",
    "        print('Destructor called, Employee deleted.')\n",
    "\n",
    "obj = Employee()\n",
    "del obj\n"
   ]
  },
  {
   "cell_type": "code",
   "execution_count": 265,
   "id": "048caa43",
   "metadata": {},
   "outputs": [
    {
     "name": "stdout",
     "output_type": "stream",
     "text": [
      "My name is qasim\n",
      "I am of  22\n"
     ]
    }
   ],
   "source": [
    "# Object Methods\n",
    "class person2:\n",
    "    def __init__(data,name,age):\n",
    "        data.name=name\n",
    "        data.age=age \n",
    "    def myfunc(data):\n",
    "        print('My name is '+ data.name)\n",
    "        print('I am of ',data.age)\n",
    "obj2=person2('qasim',22)\n",
    "obj2.myfunc()"
   ]
  },
  {
   "cell_type": "code",
   "execution_count": 266,
   "id": "6ddb41ac",
   "metadata": {},
   "outputs": [
    {
     "name": "stdout",
     "output_type": "stream",
     "text": [
      "My name is qasim\n",
      "I am of  22\n"
     ]
    }
   ],
   "source": [
    "# The self Parameter\n",
    "class person2:\n",
    "    def __init__(data,name,age):\n",
    "        data.name=name\n",
    "        data.age=age \n",
    "    def myfunc(xyz):\n",
    "        print('My name is '+xyz.name)\n",
    "        print('I am of ',xyz.age)\n",
    "obj2=person2('qasim',22)\n",
    "obj2.myfunc()"
   ]
  },
  {
   "cell_type": "code",
   "execution_count": 267,
   "id": "53b8ef2e",
   "metadata": {},
   "outputs": [
    {
     "name": "stdout",
     "output_type": "stream",
     "text": [
      "Haider is 22 year old.\n",
      "Qasim is 22 year old.\n"
     ]
    }
   ],
   "source": [
    "#Object Default Methods\n",
    "class person2:\n",
    "    def __init__(data,name='Haider',age=22):\n",
    "        data.name=name\n",
    "        data.age=age \n",
    "    def myfunc(data):\n",
    "        return f'{data.name} is {data.age} year old.'\n",
    "obj1=person2()\n",
    "print(obj1.myfunc())\n",
    "obj2=person2('Qasim',22)\n",
    "print(obj2.myfunc())"
   ]
  },
  {
   "cell_type": "code",
   "execution_count": 268,
   "id": "81dc7d6b",
   "metadata": {},
   "outputs": [
    {
     "name": "stdout",
     "output_type": "stream",
     "text": [
      "My name is qasim\n",
      "I am of  21\n"
     ]
    }
   ],
   "source": [
    "# Modify Object Properties\n",
    "class person2:\n",
    "    def __init__(data,name,age):\n",
    "        data.name=name\n",
    "        data.age=age \n",
    "    def myfunc(xyz):\n",
    "        print('My name is '+xyz.name)\n",
    "        print('I am of ',xyz.age)\n",
    "obj2=person2('qasim',22)\n",
    "obj2.age=21\n",
    "obj2.myfunc()"
   ]
  },
  {
   "cell_type": "code",
   "execution_count": 269,
   "id": "8b1e9ea6",
   "metadata": {},
   "outputs": [],
   "source": [
    "del obj2.age"
   ]
  },
  {
   "cell_type": "code",
   "execution_count": 270,
   "id": "d2f687d6",
   "metadata": {},
   "outputs": [
    {
     "name": "stdout",
     "output_type": "stream",
     "text": [
      "Haider is 22 year old.\n",
      "Qasim is 22 year old.\n",
      "['city:Mzd']\n"
     ]
    }
   ],
   "source": [
    "# Method to Modify Class Default Values\n",
    "class person2:\n",
    "    def __init__(data,name='Haider',age=22):\n",
    "        data.name=name\n",
    "        data.age=age \n",
    "        data.cities=[]\n",
    "    def myfunc(data):\n",
    "        return f'{data.name} is {data.age} year old.'\n",
    "    def city(data,city):\n",
    "        data.cities.append(city)\n",
    "\n",
    "obj1=person2()\n",
    "print(obj1.myfunc())\n",
    "obj1.city('city:Mzd')\n",
    "obj2=person2('Qasim',22)\n",
    "print(obj2.myfunc())\n",
    "print(obj1.cities)"
   ]
  },
  {
   "cell_type": "markdown",
   "id": "3535dc2b",
   "metadata": {},
   "source": [
    "#### Inheritance"
   ]
  },
  {
   "cell_type": "code",
   "execution_count": null,
   "id": "4568b52f",
   "metadata": {},
   "outputs": [],
   "source": []
  },
  {
   "cell_type": "code",
   "execution_count": 44,
   "id": "3444e358",
   "metadata": {},
   "outputs": [
    {
     "name": "stdout",
     "output_type": "stream",
     "text": [
      "qasim\n",
      "22\n",
      "qasim\n",
      "24\n"
     ]
    }
   ],
   "source": [
    "class friend:\n",
    " def __init__(data, name, age):\n",
    "        data.name=name\n",
    "        data.age=age\n",
    "obj1=friend('qasim',22)\n",
    "print(obj1.name)\n",
    "print(obj1.age)\n",
    "class person4(friend):\n",
    "    x = person4(\"Mike\", \"Olsen\")\n",
    "obj2=friend('qasim',24)\n",
    "print(obj2.name)\n",
    "print(obj2.age)"
   ]
  },
  {
   "cell_type": "code",
   "execution_count": 46,
   "id": "49aaeed6",
   "metadata": {},
   "outputs": [
    {
     "name": "stdout",
     "output_type": "stream",
     "text": [
      "qasim\n",
      "22\n",
      "qasim\n",
      "24\n"
     ]
    }
   ],
   "source": [
    "# Use the super() Function\n",
    "class friend:\n",
    " def __init__(data, name, age):\n",
    "        data.name=name\n",
    "        data.age=age\n",
    "obj1=friend('qasim',22)\n",
    "print(obj1.name)\n",
    "print(obj1.age)\n",
    "class person4(friend):\n",
    "    def __init__(data, name, age):\n",
    "        super().__init__(fname, lname)\n",
    "        x = person4(\"Mike\", \"Olsen\")\n",
    "obj2=friend('qasim',24)\n",
    "print(obj2.name)\n",
    "print(obj2.age)"
   ]
  },
  {
   "cell_type": "code",
   "execution_count": 2,
   "id": "c8aa0422",
   "metadata": {},
   "outputs": [
    {
     "data": {
      "text/plain": [
       "4"
      ]
     },
     "execution_count": 2,
     "metadata": {},
     "output_type": "execute_result"
    }
   ],
   "source": [
    "class myclass:\n",
    "    def add (self,num1,num2):\n",
    "        sum=num1+num2\n",
    "        return sum\n",
    "obj7=myclass()\n",
    "obj7.add(2,2)"
   ]
  },
  {
   "cell_type": "code",
   "execution_count": null,
   "id": "47656994",
   "metadata": {},
   "outputs": [],
   "source": []
  }
 ],
 "metadata": {
  "kernelspec": {
   "display_name": "Python 3 (ipykernel)",
   "language": "python",
   "name": "python3"
  },
  "language_info": {
   "codemirror_mode": {
    "name": "ipython",
    "version": 3
   },
   "file_extension": ".py",
   "mimetype": "text/x-python",
   "name": "python",
   "nbconvert_exporter": "python",
   "pygments_lexer": "ipython3",
   "version": "3.9.5"
  }
 },
 "nbformat": 4,
 "nbformat_minor": 5
}
